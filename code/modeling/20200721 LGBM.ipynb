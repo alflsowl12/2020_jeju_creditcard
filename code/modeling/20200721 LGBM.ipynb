{
 "cells": [
  {
   "cell_type": "code",
   "execution_count": 34,
   "metadata": {},
   "outputs": [],
   "source": [
    "import pandas as pd\n",
    "import numpy as np\n",
    "import random"
   ]
  },
  {
   "cell_type": "code",
   "execution_count": 35,
   "metadata": {},
   "outputs": [],
   "source": [
    "data = pd.read_csv('C:/Users/USER/Desktop/2020 summer dacon/2020_jeju_credit card/data/modeling data/modeling_data.csv', encoding = 'CP949')"
   ]
  },
  {
   "cell_type": "code",
   "execution_count": 36,
   "metadata": {},
   "outputs": [],
   "source": [
    "random.seed(2020)"
   ]
  },
  {
   "cell_type": "code",
   "execution_count": 37,
   "metadata": {},
   "outputs": [],
   "source": [
    "# feature, target 설정\n",
    "df_num = data"
   ]
  },
  {
   "cell_type": "code",
   "execution_count": 38,
   "metadata": {
    "scrolled": true
   },
   "outputs": [
    {
     "data": {
      "text/html": [
       "<div>\n",
       "<style scoped>\n",
       "    .dataframe tbody tr th:only-of-type {\n",
       "        vertical-align: middle;\n",
       "    }\n",
       "\n",
       "    .dataframe tbody tr th {\n",
       "        vertical-align: top;\n",
       "    }\n",
       "\n",
       "    .dataframe thead th {\n",
       "        text-align: right;\n",
       "    }\n",
       "</style>\n",
       "<table border=\"1\" class=\"dataframe\">\n",
       "  <thead>\n",
       "    <tr style=\"text-align: right;\">\n",
       "      <th></th>\n",
       "      <th>Unnamed: 0</th>\n",
       "      <th>CARD_SIDO_NM</th>\n",
       "      <th>STD_CLSS_NM</th>\n",
       "      <th>HOM_SIDO_NM</th>\n",
       "      <th>AGE</th>\n",
       "      <th>SEX_CTGO_CD</th>\n",
       "      <th>FLC</th>\n",
       "      <th>AMT</th>\n",
       "      <th>month</th>\n",
       "      <th>year</th>\n",
       "      <th>deceased</th>\n",
       "      <th>festival_count</th>\n",
       "      <th>rain_day</th>\n",
       "      <th>covid</th>\n",
       "      <th>age_population</th>\n",
       "      <th>total_sale_by_indst_groupby</th>\n",
       "      <th>log_total_sale_by_indst</th>\n",
       "      <th>total_tourist_groupby</th>\n",
       "    </tr>\n",
       "  </thead>\n",
       "  <tbody>\n",
       "    <tr>\n",
       "      <th>0</th>\n",
       "      <td>1</td>\n",
       "      <td>강원</td>\n",
       "      <td>건강보조식품 소매업</td>\n",
       "      <td>강원</td>\n",
       "      <td>20s</td>\n",
       "      <td>1</td>\n",
       "      <td>1</td>\n",
       "      <td>843100.0</td>\n",
       "      <td>11</td>\n",
       "      <td>2019</td>\n",
       "      <td>0</td>\n",
       "      <td>0</td>\n",
       "      <td>8.806154</td>\n",
       "      <td>False</td>\n",
       "      <td>1.562276e+13</td>\n",
       "      <td>42767.077</td>\n",
       "      <td>10.591</td>\n",
       "      <td>1.980289e+06</td>\n",
       "    </tr>\n",
       "    <tr>\n",
       "      <th>1</th>\n",
       "      <td>2</td>\n",
       "      <td>강원</td>\n",
       "      <td>건강보조식품 소매업</td>\n",
       "      <td>강원</td>\n",
       "      <td>20s</td>\n",
       "      <td>1</td>\n",
       "      <td>1</td>\n",
       "      <td>139000.0</td>\n",
       "      <td>6</td>\n",
       "      <td>2019</td>\n",
       "      <td>0</td>\n",
       "      <td>8</td>\n",
       "      <td>11.461487</td>\n",
       "      <td>False</td>\n",
       "      <td>1.562276e+13</td>\n",
       "      <td>42767.077</td>\n",
       "      <td>10.591</td>\n",
       "      <td>1.980289e+06</td>\n",
       "    </tr>\n",
       "    <tr>\n",
       "      <th>2</th>\n",
       "      <td>3</td>\n",
       "      <td>강원</td>\n",
       "      <td>건강보조식품 소매업</td>\n",
       "      <td>강원</td>\n",
       "      <td>20s</td>\n",
       "      <td>1</td>\n",
       "      <td>1</td>\n",
       "      <td>27500.0</td>\n",
       "      <td>8</td>\n",
       "      <td>2019</td>\n",
       "      <td>0</td>\n",
       "      <td>8</td>\n",
       "      <td>11.461487</td>\n",
       "      <td>False</td>\n",
       "      <td>1.562276e+13</td>\n",
       "      <td>42767.077</td>\n",
       "      <td>10.591</td>\n",
       "      <td>1.980289e+06</td>\n",
       "    </tr>\n",
       "    <tr>\n",
       "      <th>3</th>\n",
       "      <td>4</td>\n",
       "      <td>강원</td>\n",
       "      <td>건강보조식품 소매업</td>\n",
       "      <td>강원</td>\n",
       "      <td>20s</td>\n",
       "      <td>1</td>\n",
       "      <td>1</td>\n",
       "      <td>395500.0</td>\n",
       "      <td>9</td>\n",
       "      <td>2019</td>\n",
       "      <td>0</td>\n",
       "      <td>11</td>\n",
       "      <td>11.461487</td>\n",
       "      <td>False</td>\n",
       "      <td>1.562276e+13</td>\n",
       "      <td>42767.077</td>\n",
       "      <td>10.591</td>\n",
       "      <td>1.980289e+06</td>\n",
       "    </tr>\n",
       "    <tr>\n",
       "      <th>4</th>\n",
       "      <td>5</td>\n",
       "      <td>강원</td>\n",
       "      <td>건강보조식품 소매업</td>\n",
       "      <td>강원</td>\n",
       "      <td>20s</td>\n",
       "      <td>1</td>\n",
       "      <td>1</td>\n",
       "      <td>427510.0</td>\n",
       "      <td>3</td>\n",
       "      <td>2020</td>\n",
       "      <td>1</td>\n",
       "      <td>0</td>\n",
       "      <td>7.066787</td>\n",
       "      <td>True</td>\n",
       "      <td>1.562276e+13</td>\n",
       "      <td>42767.077</td>\n",
       "      <td>10.591</td>\n",
       "      <td>NaN</td>\n",
       "    </tr>\n",
       "    <tr>\n",
       "      <th>...</th>\n",
       "      <td>...</td>\n",
       "      <td>...</td>\n",
       "      <td>...</td>\n",
       "      <td>...</td>\n",
       "      <td>...</td>\n",
       "      <td>...</td>\n",
       "      <td>...</td>\n",
       "      <td>...</td>\n",
       "      <td>...</td>\n",
       "      <td>...</td>\n",
       "      <td>...</td>\n",
       "      <td>...</td>\n",
       "      <td>...</td>\n",
       "      <td>...</td>\n",
       "      <td>...</td>\n",
       "      <td>...</td>\n",
       "      <td>...</td>\n",
       "      <td>...</td>\n",
       "    </tr>\n",
       "    <tr>\n",
       "      <th>1057389</th>\n",
       "      <td>1057390</td>\n",
       "      <td>충북</td>\n",
       "      <td>휴양콘도 운영업</td>\n",
       "      <td>충북</td>\n",
       "      <td>70s</td>\n",
       "      <td>2</td>\n",
       "      <td>5</td>\n",
       "      <td>230400.0</td>\n",
       "      <td>1</td>\n",
       "      <td>2020</td>\n",
       "      <td>0</td>\n",
       "      <td>0</td>\n",
       "      <td>7.066787</td>\n",
       "      <td>False</td>\n",
       "      <td>4.267602e+11</td>\n",
       "      <td>42767.080</td>\n",
       "      <td>10.591</td>\n",
       "      <td>NaN</td>\n",
       "    </tr>\n",
       "    <tr>\n",
       "      <th>1057390</th>\n",
       "      <td>1057391</td>\n",
       "      <td>충북</td>\n",
       "      <td>휴양콘도 운영업</td>\n",
       "      <td>충북</td>\n",
       "      <td>70s</td>\n",
       "      <td>2</td>\n",
       "      <td>5</td>\n",
       "      <td>247800.0</td>\n",
       "      <td>12</td>\n",
       "      <td>2019</td>\n",
       "      <td>0</td>\n",
       "      <td>0</td>\n",
       "      <td>8.806154</td>\n",
       "      <td>False</td>\n",
       "      <td>4.267602e+11</td>\n",
       "      <td>42767.080</td>\n",
       "      <td>10.591</td>\n",
       "      <td>1.433245e+05</td>\n",
       "    </tr>\n",
       "    <tr>\n",
       "      <th>1057391</th>\n",
       "      <td>1057392</td>\n",
       "      <td>충북</td>\n",
       "      <td>휴양콘도 운영업</td>\n",
       "      <td>충북</td>\n",
       "      <td>70s</td>\n",
       "      <td>2</td>\n",
       "      <td>5</td>\n",
       "      <td>83000.0</td>\n",
       "      <td>2</td>\n",
       "      <td>2019</td>\n",
       "      <td>0</td>\n",
       "      <td>0</td>\n",
       "      <td>7.066787</td>\n",
       "      <td>False</td>\n",
       "      <td>4.267602e+11</td>\n",
       "      <td>42767.080</td>\n",
       "      <td>10.591</td>\n",
       "      <td>1.433245e+05</td>\n",
       "    </tr>\n",
       "    <tr>\n",
       "      <th>1057392</th>\n",
       "      <td>1057393</td>\n",
       "      <td>충북</td>\n",
       "      <td>휴양콘도 운영업</td>\n",
       "      <td>충북</td>\n",
       "      <td>70s</td>\n",
       "      <td>2</td>\n",
       "      <td>5</td>\n",
       "      <td>329800.0</td>\n",
       "      <td>5</td>\n",
       "      <td>2019</td>\n",
       "      <td>0</td>\n",
       "      <td>0</td>\n",
       "      <td>7.066787</td>\n",
       "      <td>False</td>\n",
       "      <td>4.267602e+11</td>\n",
       "      <td>42767.080</td>\n",
       "      <td>10.591</td>\n",
       "      <td>1.433245e+05</td>\n",
       "    </tr>\n",
       "    <tr>\n",
       "      <th>1057393</th>\n",
       "      <td>1057394</td>\n",
       "      <td>충북</td>\n",
       "      <td>휴양콘도 운영업</td>\n",
       "      <td>충북</td>\n",
       "      <td>70s</td>\n",
       "      <td>2</td>\n",
       "      <td>5</td>\n",
       "      <td>557800.0</td>\n",
       "      <td>10</td>\n",
       "      <td>2019</td>\n",
       "      <td>0</td>\n",
       "      <td>4</td>\n",
       "      <td>7.066787</td>\n",
       "      <td>False</td>\n",
       "      <td>4.267602e+11</td>\n",
       "      <td>42767.080</td>\n",
       "      <td>10.591</td>\n",
       "      <td>NaN</td>\n",
       "    </tr>\n",
       "  </tbody>\n",
       "</table>\n",
       "<p>1057394 rows × 18 columns</p>\n",
       "</div>"
      ],
      "text/plain": [
       "         Unnamed: 0 CARD_SIDO_NM STD_CLSS_NM HOM_SIDO_NM  AGE  SEX_CTGO_CD  \\\n",
       "0                 1           강원  건강보조식품 소매업          강원  20s            1   \n",
       "1                 2           강원  건강보조식품 소매업          강원  20s            1   \n",
       "2                 3           강원  건강보조식품 소매업          강원  20s            1   \n",
       "3                 4           강원  건강보조식품 소매업          강원  20s            1   \n",
       "4                 5           강원  건강보조식품 소매업          강원  20s            1   \n",
       "...             ...          ...         ...         ...  ...          ...   \n",
       "1057389     1057390           충북    휴양콘도 운영업          충북  70s            2   \n",
       "1057390     1057391           충북    휴양콘도 운영업          충북  70s            2   \n",
       "1057391     1057392           충북    휴양콘도 운영업          충북  70s            2   \n",
       "1057392     1057393           충북    휴양콘도 운영업          충북  70s            2   \n",
       "1057393     1057394           충북    휴양콘도 운영업          충북  70s            2   \n",
       "\n",
       "         FLC       AMT  month  year  deceased  festival_count   rain_day  \\\n",
       "0          1  843100.0     11  2019         0               0   8.806154   \n",
       "1          1  139000.0      6  2019         0               8  11.461487   \n",
       "2          1   27500.0      8  2019         0               8  11.461487   \n",
       "3          1  395500.0      9  2019         0              11  11.461487   \n",
       "4          1  427510.0      3  2020         1               0   7.066787   \n",
       "...      ...       ...    ...   ...       ...             ...        ...   \n",
       "1057389    5  230400.0      1  2020         0               0   7.066787   \n",
       "1057390    5  247800.0     12  2019         0               0   8.806154   \n",
       "1057391    5   83000.0      2  2019         0               0   7.066787   \n",
       "1057392    5  329800.0      5  2019         0               0   7.066787   \n",
       "1057393    5  557800.0     10  2019         0               4   7.066787   \n",
       "\n",
       "         covid  age_population  total_sale_by_indst_groupby  \\\n",
       "0        False    1.562276e+13                    42767.077   \n",
       "1        False    1.562276e+13                    42767.077   \n",
       "2        False    1.562276e+13                    42767.077   \n",
       "3        False    1.562276e+13                    42767.077   \n",
       "4         True    1.562276e+13                    42767.077   \n",
       "...        ...             ...                          ...   \n",
       "1057389  False    4.267602e+11                    42767.080   \n",
       "1057390  False    4.267602e+11                    42767.080   \n",
       "1057391  False    4.267602e+11                    42767.080   \n",
       "1057392  False    4.267602e+11                    42767.080   \n",
       "1057393  False    4.267602e+11                    42767.080   \n",
       "\n",
       "         log_total_sale_by_indst  total_tourist_groupby  \n",
       "0                         10.591           1.980289e+06  \n",
       "1                         10.591           1.980289e+06  \n",
       "2                         10.591           1.980289e+06  \n",
       "3                         10.591           1.980289e+06  \n",
       "4                         10.591                    NaN  \n",
       "...                          ...                    ...  \n",
       "1057389                   10.591                    NaN  \n",
       "1057390                   10.591           1.433245e+05  \n",
       "1057391                   10.591           1.433245e+05  \n",
       "1057392                   10.591           1.433245e+05  \n",
       "1057393                   10.591                    NaN  \n",
       "\n",
       "[1057394 rows x 18 columns]"
      ]
     },
     "execution_count": 38,
     "metadata": {},
     "output_type": "execute_result"
    }
   ],
   "source": [
    "df_num"
   ]
  },
  {
   "cell_type": "code",
   "execution_count": 39,
   "metadata": {},
   "outputs": [],
   "source": [
    "# feature, target 설정\n",
    "train_num = df_num.sample(frac=1, random_state=0)\n",
    "train_features = train_num.drop(['AMT'], axis=1)\n",
    "train_target = np.log1p(train_num['AMT'])"
   ]
  },
  {
   "cell_type": "code",
   "execution_count": 40,
   "metadata": {},
   "outputs": [],
   "source": [
    "# 예측 템플릿 만들기 : total indst 기준으로 돌리자.\n",
    "temp = pd.read_csv('C:/Users/USER/Desktop/2020 summer dacon/2020_jeju_credit card/data/modeling data/template.csv', encoding = 'CP949')"
   ]
  },
  {
   "cell_type": "code",
   "execution_count": 41,
   "metadata": {},
   "outputs": [],
   "source": [
    "temp = temp.drop(['home_ratio'],axis = 1)"
   ]
  },
  {
   "cell_type": "code",
   "execution_count": 42,
   "metadata": {},
   "outputs": [],
   "source": [
    "#log_temp = pd.read_csv('C:/Users/USER/Desktop/2020 summer dacon/2020_jeju_credit card/data/modeling data/log_template.csv', encoding = 'CP949')"
   ]
  },
  {
   "cell_type": "code",
   "execution_count": 43,
   "metadata": {},
   "outputs": [
    {
     "data": {
      "text/plain": [
       "pandas.core.frame.DataFrame"
      ]
     },
     "execution_count": 43,
     "metadata": {},
     "output_type": "execute_result"
    }
   ],
   "source": [
    "type(temp)"
   ]
  },
  {
   "cell_type": "code",
   "execution_count": 44,
   "metadata": {},
   "outputs": [
    {
     "data": {
      "text/plain": [
       "(1658860, 14)"
      ]
     },
     "execution_count": 44,
     "metadata": {},
     "output_type": "execute_result"
    }
   ],
   "source": [
    "temp.shape"
   ]
  },
  {
   "cell_type": "code",
   "execution_count": 45,
   "metadata": {
    "scrolled": true
   },
   "outputs": [
    {
     "data": {
      "text/html": [
       "<div>\n",
       "<style scoped>\n",
       "    .dataframe tbody tr th:only-of-type {\n",
       "        vertical-align: middle;\n",
       "    }\n",
       "\n",
       "    .dataframe tbody tr th {\n",
       "        vertical-align: top;\n",
       "    }\n",
       "\n",
       "    .dataframe thead th {\n",
       "        text-align: right;\n",
       "    }\n",
       "</style>\n",
       "<table border=\"1\" class=\"dataframe\">\n",
       "  <thead>\n",
       "    <tr style=\"text-align: right;\">\n",
       "      <th></th>\n",
       "      <th>CARD_SIDO_NM</th>\n",
       "      <th>STD_CLSS_NM</th>\n",
       "      <th>HOM_SIDO_NM</th>\n",
       "      <th>AGE</th>\n",
       "      <th>SEX_CTGO_CD</th>\n",
       "      <th>FLC</th>\n",
       "      <th>month</th>\n",
       "      <th>year</th>\n",
       "      <th>rain_day</th>\n",
       "      <th>age_population</th>\n",
       "      <th>total_sale_by_indst_groupby</th>\n",
       "      <th>total_tourist_groupby</th>\n",
       "      <th>covid</th>\n",
       "      <th>festival_count</th>\n",
       "    </tr>\n",
       "  </thead>\n",
       "  <tbody>\n",
       "    <tr>\n",
       "      <th>0</th>\n",
       "      <td>강원</td>\n",
       "      <td>건강보조식품 소매업</td>\n",
       "      <td>강원</td>\n",
       "      <td>20s</td>\n",
       "      <td>1</td>\n",
       "      <td>1</td>\n",
       "      <td>4</td>\n",
       "      <td>2020</td>\n",
       "      <td>8.806154</td>\n",
       "      <td>15622761472137</td>\n",
       "      <td>42767.077</td>\n",
       "      <td>NaN</td>\n",
       "      <td>True</td>\n",
       "      <td>0</td>\n",
       "    </tr>\n",
       "    <tr>\n",
       "      <th>1</th>\n",
       "      <td>강원</td>\n",
       "      <td>건강보조식품 소매업</td>\n",
       "      <td>강원</td>\n",
       "      <td>20s</td>\n",
       "      <td>1</td>\n",
       "      <td>1</td>\n",
       "      <td>7</td>\n",
       "      <td>2020</td>\n",
       "      <td>11.461487</td>\n",
       "      <td>15622761472137</td>\n",
       "      <td>42767.077</td>\n",
       "      <td>NaN</td>\n",
       "      <td>True</td>\n",
       "      <td>0</td>\n",
       "    </tr>\n",
       "    <tr>\n",
       "      <th>2</th>\n",
       "      <td>강원</td>\n",
       "      <td>건강보조식품 소매업</td>\n",
       "      <td>강원</td>\n",
       "      <td>20s</td>\n",
       "      <td>1</td>\n",
       "      <td>2</td>\n",
       "      <td>4</td>\n",
       "      <td>2020</td>\n",
       "      <td>8.806154</td>\n",
       "      <td>15622761472137</td>\n",
       "      <td>42767.077</td>\n",
       "      <td>NaN</td>\n",
       "      <td>True</td>\n",
       "      <td>0</td>\n",
       "    </tr>\n",
       "  </tbody>\n",
       "</table>\n",
       "</div>"
      ],
      "text/plain": [
       "  CARD_SIDO_NM STD_CLSS_NM HOM_SIDO_NM  AGE  SEX_CTGO_CD  FLC  month  year  \\\n",
       "0           강원  건강보조식품 소매업          강원  20s            1    1      4  2020   \n",
       "1           강원  건강보조식품 소매업          강원  20s            1    1      7  2020   \n",
       "2           강원  건강보조식품 소매업          강원  20s            1    2      4  2020   \n",
       "\n",
       "    rain_day  age_population  total_sale_by_indst_groupby  \\\n",
       "0   8.806154  15622761472137                    42767.077   \n",
       "1  11.461487  15622761472137                    42767.077   \n",
       "2   8.806154  15622761472137                    42767.077   \n",
       "\n",
       "   total_tourist_groupby  covid  festival_count  \n",
       "0                    NaN   True               0  \n",
       "1                    NaN   True               0  \n",
       "2                    NaN   True               0  "
      ]
     },
     "execution_count": 45,
     "metadata": {},
     "output_type": "execute_result"
    }
   ],
   "source": [
    "temp.head(3)"
   ]
  },
  {
   "cell_type": "code",
   "execution_count": 46,
   "metadata": {},
   "outputs": [],
   "source": [
    "#lightGBM\n",
    "x = train_num.drop(['AMT','Unnamed: 0','log_total_sale_by_indst','deceased'], axis=1) # total indst 기준으로 돌리자.\n",
    "y = np.log1p(train_num['AMT'])"
   ]
  },
  {
   "cell_type": "code",
   "execution_count": 47,
   "metadata": {
    "scrolled": false
   },
   "outputs": [
    {
     "data": {
      "text/plain": [
       "CARD_SIDO_NM                    object\n",
       "STD_CLSS_NM                     object\n",
       "HOM_SIDO_NM                     object\n",
       "AGE                             object\n",
       "SEX_CTGO_CD                      int64\n",
       "FLC                              int64\n",
       "month                            int64\n",
       "year                             int64\n",
       "festival_count                   int64\n",
       "rain_day                       float64\n",
       "covid                             bool\n",
       "age_population                 float64\n",
       "total_sale_by_indst_groupby    float64\n",
       "total_tourist_groupby          float64\n",
       "dtype: object"
      ]
     },
     "execution_count": 47,
     "metadata": {},
     "output_type": "execute_result"
    }
   ],
   "source": [
    "x.dtypes"
   ]
  },
  {
   "cell_type": "code",
   "execution_count": 48,
   "metadata": {},
   "outputs": [],
   "source": [
    "cat_features = ['CARD_SIDO_NM', 'STD_CLSS_NM', 'HOM_SIDO_NM','AGE','covid']\n",
    "for i in enumerate (cat_features) : \n",
    "    ca = i[1] \n",
    "    x[ca] = x[ca].astype('category') "
   ]
  },
  {
   "cell_type": "code",
   "execution_count": 49,
   "metadata": {},
   "outputs": [],
   "source": [
    "k = int(len(x)*0.9)"
   ]
  },
  {
   "cell_type": "code",
   "execution_count": 50,
   "metadata": {},
   "outputs": [],
   "source": [
    "x_train = x[:k]\n",
    "y_train = y[:k]\n",
    "x_val = x[k:]\n",
    "y_val = y[k:]"
   ]
  },
  {
   "cell_type": "code",
   "execution_count": 51,
   "metadata": {},
   "outputs": [],
   "source": [
    "x_train.columns = [\"\".join (c if c.isalnum() else \"_\" for c in str(x)) for x in x_train.columns]\n",
    "x_val.columns = [\"\".join (c if c.isalnum() else \"_\" for c in str(x)) for x in x_val.columns]"
   ]
  },
  {
   "cell_type": "code",
   "execution_count": 52,
   "metadata": {},
   "outputs": [],
   "source": [
    "import lightgbm as lgb"
   ]
  },
  {
   "cell_type": "code",
   "execution_count": 53,
   "metadata": {},
   "outputs": [],
   "source": [
    "train_ds = lgb.Dataset(x_train, label=y_train)\n",
    "val_ds = lgb.Dataset(x_val, label=y_val)"
   ]
  },
  {
   "cell_type": "code",
   "execution_count": 54,
   "metadata": {},
   "outputs": [],
   "source": [
    "params = {\n",
    "            'learning_rate' : 0.05,\n",
    "            'boosting_type': 'gbdt',\n",
    "            'objective': 'tweedie',\n",
    "            'tweedie_variance_power': 1.1,\n",
    "            'metric': 'rmse',\n",
    "            'sub_row' : 0.75,\n",
    "            'lambda_l2' : 0.1\n",
    "        }"
   ]
  },
  {
   "cell_type": "code",
   "execution_count": 55,
   "metadata": {},
   "outputs": [
    {
     "name": "stdout",
     "output_type": "stream",
     "text": [
      "Training until validation scores don't improve for 100 rounds\n",
      "[100]\tvalid_0's rmse: 1.75004\n",
      "[200]\tvalid_0's rmse: 1.46805\n",
      "[300]\tvalid_0's rmse: 1.30613\n",
      "[400]\tvalid_0's rmse: 1.19732\n",
      "[500]\tvalid_0's rmse: 1.12167\n",
      "[600]\tvalid_0's rmse: 1.06165\n",
      "[700]\tvalid_0's rmse: 1.00728\n",
      "[800]\tvalid_0's rmse: 0.968559\n",
      "[900]\tvalid_0's rmse: 0.937952\n",
      "[1000]\tvalid_0's rmse: 0.908782\n",
      "Did not meet early stopping. Best iteration is:\n",
      "[1000]\tvalid_0's rmse: 0.908782\n"
     ]
    }
   ],
   "source": [
    "model = lgb.train(params,\n",
    "                  train_ds,\n",
    "                  1000,\n",
    "                  val_ds,\n",
    "                  verbose_eval = 100,\n",
    "                  early_stopping_rounds = 100\n",
    "                 )"
   ]
  },
  {
   "cell_type": "markdown",
   "metadata": {},
   "source": [
    "-------------------------------문제시작---------------------------------"
   ]
  },
  {
   "cell_type": "code",
   "execution_count": 56,
   "metadata": {},
   "outputs": [
    {
     "data": {
      "text/plain": [
       "CARD_SIDO_NM                   True\n",
       "STD_CLSS_NM                    True\n",
       "HOM_SIDO_NM                    True\n",
       "AGE                            True\n",
       "SEX_CTGO_CD                    True\n",
       "FLC                            True\n",
       "month                          True\n",
       "year                           True\n",
       "festival_count                 True\n",
       "rain_day                       True\n",
       "covid                          True\n",
       "age_population                 True\n",
       "total_sale_by_indst_groupby    True\n",
       "total_tourist_groupby          True\n",
       "dtype: bool"
      ]
     },
     "execution_count": 56,
     "metadata": {},
     "output_type": "execute_result"
    }
   ],
   "source": [
    "x_train.dtypes==x_val.dtypes"
   ]
  },
  {
   "cell_type": "code",
   "execution_count": 57,
   "metadata": {},
   "outputs": [],
   "source": [
    "x_train_col = x_train.columns.to_list()\n",
    "temp_col = temp.columns.to_list()"
   ]
  },
  {
   "cell_type": "code",
   "execution_count": 58,
   "metadata": {},
   "outputs": [
    {
     "data": {
      "text/plain": [
       "[]"
      ]
     },
     "execution_count": 58,
     "metadata": {},
     "output_type": "execute_result"
    }
   ],
   "source": [
    "list(set(temp_col) - set(x_train_col))"
   ]
  },
  {
   "cell_type": "code",
   "execution_count": 59,
   "metadata": {},
   "outputs": [],
   "source": [
    "obj_features = ['CARD_SIDO_NM', 'STD_CLSS_NM', 'HOM_SIDO_NM', 'AGE','covid']\n",
    "for i in enumerate (obj_features) : \n",
    "    ca = i[1] \n",
    "    temp[ca] = temp[ca].astype('category') \n",
    "\n",
    "obj_features = ['year', 'month']\n",
    "for i in enumerate (obj_features) : \n",
    "    ca = i[1] \n",
    "    temp[ca] = temp[ca].astype('int64') "
   ]
  },
  {
   "cell_type": "code",
   "execution_count": 60,
   "metadata": {
    "scrolled": true
   },
   "outputs": [
    {
     "data": {
      "text/plain": [
       "CARD_SIDO_NM                   category\n",
       "STD_CLSS_NM                    category\n",
       "HOM_SIDO_NM                    category\n",
       "AGE                            category\n",
       "SEX_CTGO_CD                       int64\n",
       "FLC                               int64\n",
       "month                             int64\n",
       "year                              int64\n",
       "rain_day                        float64\n",
       "age_population                    int64\n",
       "total_sale_by_indst_groupby     float64\n",
       "total_tourist_groupby           float64\n",
       "covid                          category\n",
       "festival_count                    int64\n",
       "dtype: object"
      ]
     },
     "execution_count": 60,
     "metadata": {},
     "output_type": "execute_result"
    }
   ],
   "source": [
    "temp.dtypes"
   ]
  },
  {
   "cell_type": "code",
   "execution_count": 61,
   "metadata": {},
   "outputs": [],
   "source": [
    "# 예측\n",
    "pred = model.predict(temp)\n",
    "pred = np.expm1(pred)\n",
    "temp['AMT'] = np.round(pred, 0)\n",
    "temp['REG_YYMM'] = temp['year']*100+ temp['month']\n",
    "temp = temp[['REG_YYMM', 'CARD_SIDO_NM', 'STD_CLSS_NM', 'AMT']]\n",
    "temp = temp.groupby(['REG_YYMM', 'CARD_SIDO_NM', 'STD_CLSS_NM']).sum().reset_index(drop=False)"
   ]
  },
  {
   "cell_type": "code",
   "execution_count": 62,
   "metadata": {},
   "outputs": [],
   "source": [
    "#디코딩?\n",
    "cat_features = ['CARD_SIDO_NM', 'STD_CLSS_NM']\n",
    "for i in enumerate (cat_features) : \n",
    "    ca = i[1] \n",
    "    temp[ca] = temp[ca].astype('object') "
   ]
  },
  {
   "cell_type": "code",
   "execution_count": 63,
   "metadata": {},
   "outputs": [
    {
     "data": {
      "text/html": [
       "<div>\n",
       "<style scoped>\n",
       "    .dataframe tbody tr th:only-of-type {\n",
       "        vertical-align: middle;\n",
       "    }\n",
       "\n",
       "    .dataframe tbody tr th {\n",
       "        vertical-align: top;\n",
       "    }\n",
       "\n",
       "    .dataframe thead th {\n",
       "        text-align: right;\n",
       "    }\n",
       "</style>\n",
       "<table border=\"1\" class=\"dataframe\">\n",
       "  <thead>\n",
       "    <tr style=\"text-align: right;\">\n",
       "      <th></th>\n",
       "      <th>REG_YYMM</th>\n",
       "      <th>CARD_SIDO_NM</th>\n",
       "      <th>STD_CLSS_NM</th>\n",
       "      <th>AMT</th>\n",
       "    </tr>\n",
       "  </thead>\n",
       "  <tbody>\n",
       "    <tr>\n",
       "      <th>0</th>\n",
       "      <td>202004</td>\n",
       "      <td>강원</td>\n",
       "      <td>건강보조식품 소매업</td>\n",
       "      <td>112064136.0</td>\n",
       "    </tr>\n",
       "    <tr>\n",
       "      <th>1</th>\n",
       "      <td>202004</td>\n",
       "      <td>강원</td>\n",
       "      <td>골프장 운영업</td>\n",
       "      <td>312940460.0</td>\n",
       "    </tr>\n",
       "    <tr>\n",
       "      <th>2</th>\n",
       "      <td>202004</td>\n",
       "      <td>강원</td>\n",
       "      <td>과실 및 채소 소매업</td>\n",
       "      <td>282214691.0</td>\n",
       "    </tr>\n",
       "  </tbody>\n",
       "</table>\n",
       "</div>"
      ],
      "text/plain": [
       "   REG_YYMM CARD_SIDO_NM  STD_CLSS_NM          AMT\n",
       "0    202004           강원   건강보조식품 소매업  112064136.0\n",
       "1    202004           강원      골프장 운영업  312940460.0\n",
       "2    202004           강원  과실 및 채소 소매업  282214691.0"
      ]
     },
     "execution_count": 63,
     "metadata": {},
     "output_type": "execute_result"
    }
   ],
   "source": [
    "temp.head(3)"
   ]
  },
  {
   "cell_type": "code",
   "execution_count": 65,
   "metadata": {},
   "outputs": [
    {
     "data": {
      "text/html": [
       "<div>\n",
       "<style scoped>\n",
       "    .dataframe tbody tr th:only-of-type {\n",
       "        vertical-align: middle;\n",
       "    }\n",
       "\n",
       "    .dataframe tbody tr th {\n",
       "        vertical-align: top;\n",
       "    }\n",
       "\n",
       "    .dataframe thead th {\n",
       "        text-align: right;\n",
       "    }\n",
       "</style>\n",
       "<table border=\"1\" class=\"dataframe\">\n",
       "  <thead>\n",
       "    <tr style=\"text-align: right;\">\n",
       "      <th></th>\n",
       "      <th>REG_YYMM</th>\n",
       "      <th>CARD_SIDO_NM</th>\n",
       "      <th>STD_CLSS_NM</th>\n",
       "      <th>AMT</th>\n",
       "    </tr>\n",
       "    <tr>\n",
       "      <th>id</th>\n",
       "      <th></th>\n",
       "      <th></th>\n",
       "      <th></th>\n",
       "      <th></th>\n",
       "    </tr>\n",
       "  </thead>\n",
       "  <tbody>\n",
       "    <tr>\n",
       "      <th>0</th>\n",
       "      <td>202004</td>\n",
       "      <td>강원</td>\n",
       "      <td>건강보조식품 소매업</td>\n",
       "      <td>112064136.0</td>\n",
       "    </tr>\n",
       "    <tr>\n",
       "      <th>1</th>\n",
       "      <td>202004</td>\n",
       "      <td>강원</td>\n",
       "      <td>골프장 운영업</td>\n",
       "      <td>312940460.0</td>\n",
       "    </tr>\n",
       "    <tr>\n",
       "      <th>2</th>\n",
       "      <td>202004</td>\n",
       "      <td>강원</td>\n",
       "      <td>과실 및 채소 소매업</td>\n",
       "      <td>282214691.0</td>\n",
       "    </tr>\n",
       "    <tr>\n",
       "      <th>3</th>\n",
       "      <td>202004</td>\n",
       "      <td>강원</td>\n",
       "      <td>관광 민예품 및 선물용품 소매업</td>\n",
       "      <td>29496603.0</td>\n",
       "    </tr>\n",
       "    <tr>\n",
       "      <th>4</th>\n",
       "      <td>202004</td>\n",
       "      <td>강원</td>\n",
       "      <td>그외 기타 분류안된 오락관련 서비스업</td>\n",
       "      <td>11910703.0</td>\n",
       "    </tr>\n",
       "  </tbody>\n",
       "</table>\n",
       "</div>"
      ],
      "text/plain": [
       "    REG_YYMM CARD_SIDO_NM           STD_CLSS_NM          AMT\n",
       "id                                                          \n",
       "0     202004           강원            건강보조식품 소매업  112064136.0\n",
       "1     202004           강원               골프장 운영업  312940460.0\n",
       "2     202004           강원           과실 및 채소 소매업  282214691.0\n",
       "3     202004           강원     관광 민예품 및 선물용품 소매업   29496603.0\n",
       "4     202004           강원  그외 기타 분류안된 오락관련 서비스업   11910703.0"
      ]
     },
     "execution_count": 65,
     "metadata": {},
     "output_type": "execute_result"
    }
   ],
   "source": [
    "# 제출 파일 만들기\n",
    "submission = pd.read_csv('C:/Users/USER/Desktop/[2020]/2020 summer/데이콘/jeju_data_ver1/submission.csv', index_col=0)\n",
    "submission = submission.drop(['AMT'], axis=1)\n",
    "submission = submission.merge(temp, left_on=['REG_YYMM', 'CARD_SIDO_NM', 'STD_CLSS_NM'], right_on=['REG_YYMM', 'CARD_SIDO_NM', 'STD_CLSS_NM'], how='left')\n",
    "submission.index.name = 'id'\n",
    "submission.to_csv('submission.csv', encoding='utf-8-sig')\n",
    "submission.head()"
   ]
  },
  {
   "cell_type": "code",
   "execution_count": 66,
   "metadata": {},
   "outputs": [],
   "source": [
    "submission.to_csv('C:/Users/USER/Desktop/[2020]/submission.csv', encoding='utf-8-sig')"
   ]
  },
  {
   "cell_type": "code",
   "execution_count": null,
   "metadata": {},
   "outputs": [],
   "source": []
  }
 ],
 "metadata": {
  "kernelspec": {
   "display_name": "Python 3",
   "language": "python",
   "name": "python3"
  },
  "language_info": {
   "codemirror_mode": {
    "name": "ipython",
    "version": 3
   },
   "file_extension": ".py",
   "mimetype": "text/x-python",
   "name": "python",
   "nbconvert_exporter": "python",
   "pygments_lexer": "ipython3",
   "version": "3.7.1"
  }
 },
 "nbformat": 4,
 "nbformat_minor": 2
}
