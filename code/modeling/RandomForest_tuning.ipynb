{
 "cells": [
  {
   "cell_type": "markdown",
   "metadata": {},
   "source": [
    "# 제주 빅데이터 경진대회"
   ]
  },
  {
   "cell_type": "markdown",
   "metadata": {},
   "source": [
    "2020.07.27 월요일 김채형"
   ]
  },
  {
   "cell_type": "markdown",
   "metadata": {},
   "source": [
    "**랜덤포레스트 하이퍼파라미터 튜닝**"
   ]
  },
  {
   "cell_type": "code",
   "execution_count": 5,
   "metadata": {},
   "outputs": [],
   "source": [
    "import pandas as pd\n",
    "import numpy as np\n",
    "import sklearn\n",
    "from sklearn.ensemble import RandomForestRegressor\n",
    "from sklearn.preprocessing import LabelEncoder\n",
    "import joblib"
   ]
  },
  {
   "cell_type": "code",
   "execution_count": 7,
   "metadata": {
    "scrolled": true
   },
   "outputs": [
    {
     "name": "stderr",
     "output_type": "stream",
     "text": [
      "C:\\Users\\dhxog\\anaconda3\\envs\\my\\lib\\site-packages\\numpy\\lib\\arraysetops.py:569: FutureWarning: elementwise comparison failed; returning scalar instead, but in the future will perform elementwise comparison\n",
      "  mask |= (ar1 == a)\n"
     ]
    }
   ],
   "source": [
    "data = pd.read_csv('C:/Users/dhxog/Desktop/데이콘/dacon_competition/april_add_merge_with_homeproportion.csv', encoding='EUC-KR', index_col='Unnamed: 0')"
   ]
  },
  {
   "cell_type": "code",
   "execution_count": 8,
   "metadata": {},
   "outputs": [
    {
     "data": {
      "text/html": [
       "<div>\n",
       "<style scoped>\n",
       "    .dataframe tbody tr th:only-of-type {\n",
       "        vertical-align: middle;\n",
       "    }\n",
       "\n",
       "    .dataframe tbody tr th {\n",
       "        vertical-align: top;\n",
       "    }\n",
       "\n",
       "    .dataframe thead th {\n",
       "        text-align: right;\n",
       "    }\n",
       "</style>\n",
       "<table border=\"1\" class=\"dataframe\">\n",
       "  <thead>\n",
       "    <tr style=\"text-align: right;\">\n",
       "      <th></th>\n",
       "      <th>CARD_SIDO_NM</th>\n",
       "      <th>STD_CLSS_NM</th>\n",
       "      <th>HOM_SIDO_NM</th>\n",
       "      <th>AGE</th>\n",
       "      <th>SEX_CTGO_CD</th>\n",
       "      <th>FLC</th>\n",
       "      <th>CSTMR_CNT</th>\n",
       "      <th>AMT</th>\n",
       "      <th>CNT</th>\n",
       "      <th>festival_count</th>\n",
       "      <th>year</th>\n",
       "      <th>month</th>\n",
       "      <th>rain_day</th>\n",
       "      <th>total_tourist</th>\n",
       "      <th>corona_confirmed</th>\n",
       "      <th>total_sale_by_indst</th>\n",
       "      <th>sex_age_population</th>\n",
       "      <th>total_home</th>\n",
       "    </tr>\n",
       "  </thead>\n",
       "  <tbody>\n",
       "    <tr>\n",
       "      <th>1</th>\n",
       "      <td>강원</td>\n",
       "      <td>건강보조식품 소매업</td>\n",
       "      <td>강원</td>\n",
       "      <td>20s</td>\n",
       "      <td>1</td>\n",
       "      <td>1</td>\n",
       "      <td>3</td>\n",
       "      <td>27500.0</td>\n",
       "      <td>3</td>\n",
       "      <td>8</td>\n",
       "      <td>2019</td>\n",
       "      <td>8</td>\n",
       "      <td>13.9</td>\n",
       "      <td>1603895</td>\n",
       "      <td>0</td>\n",
       "      <td>33849.0</td>\n",
       "      <td>100115</td>\n",
       "      <td>0.57</td>\n",
       "    </tr>\n",
       "    <tr>\n",
       "      <th>2</th>\n",
       "      <td>강원</td>\n",
       "      <td>건강보조식품 소매업</td>\n",
       "      <td>강원</td>\n",
       "      <td>20s</td>\n",
       "      <td>1</td>\n",
       "      <td>1</td>\n",
       "      <td>3</td>\n",
       "      <td>139000.0</td>\n",
       "      <td>3</td>\n",
       "      <td>8</td>\n",
       "      <td>2019</td>\n",
       "      <td>6</td>\n",
       "      <td>10.6</td>\n",
       "      <td>1374767</td>\n",
       "      <td>0</td>\n",
       "      <td>33849.0</td>\n",
       "      <td>100115</td>\n",
       "      <td>0.72</td>\n",
       "    </tr>\n",
       "    <tr>\n",
       "      <th>3</th>\n",
       "      <td>강원</td>\n",
       "      <td>건강보조식품 소매업</td>\n",
       "      <td>강원</td>\n",
       "      <td>20s</td>\n",
       "      <td>1</td>\n",
       "      <td>1</td>\n",
       "      <td>3</td>\n",
       "      <td>395500.0</td>\n",
       "      <td>3</td>\n",
       "      <td>11</td>\n",
       "      <td>2019</td>\n",
       "      <td>9</td>\n",
       "      <td>9.8</td>\n",
       "      <td>2062151</td>\n",
       "      <td>0</td>\n",
       "      <td>33849.0</td>\n",
       "      <td>100115</td>\n",
       "      <td>0.72</td>\n",
       "    </tr>\n",
       "    <tr>\n",
       "      <th>4</th>\n",
       "      <td>강원</td>\n",
       "      <td>건강보조식품 소매업</td>\n",
       "      <td>강원</td>\n",
       "      <td>20s</td>\n",
       "      <td>1</td>\n",
       "      <td>1</td>\n",
       "      <td>3</td>\n",
       "      <td>427510.0</td>\n",
       "      <td>2</td>\n",
       "      <td>0</td>\n",
       "      <td>2020</td>\n",
       "      <td>3</td>\n",
       "      <td>7.3</td>\n",
       "      <td>761521</td>\n",
       "      <td>29</td>\n",
       "      <td>33849.0</td>\n",
       "      <td>100115</td>\n",
       "      <td>0.82</td>\n",
       "    </tr>\n",
       "    <tr>\n",
       "      <th>5</th>\n",
       "      <td>강원</td>\n",
       "      <td>건강보조식품 소매업</td>\n",
       "      <td>강원</td>\n",
       "      <td>20s</td>\n",
       "      <td>1</td>\n",
       "      <td>1</td>\n",
       "      <td>3</td>\n",
       "      <td>605000.0</td>\n",
       "      <td>3</td>\n",
       "      <td>4</td>\n",
       "      <td>2019</td>\n",
       "      <td>2</td>\n",
       "      <td>4.7</td>\n",
       "      <td>2146566</td>\n",
       "      <td>0</td>\n",
       "      <td>33849.0</td>\n",
       "      <td>100115</td>\n",
       "      <td>0.70</td>\n",
       "    </tr>\n",
       "    <tr>\n",
       "      <th>...</th>\n",
       "      <td>...</td>\n",
       "      <td>...</td>\n",
       "      <td>...</td>\n",
       "      <td>...</td>\n",
       "      <td>...</td>\n",
       "      <td>...</td>\n",
       "      <td>...</td>\n",
       "      <td>...</td>\n",
       "      <td>...</td>\n",
       "      <td>...</td>\n",
       "      <td>...</td>\n",
       "      <td>...</td>\n",
       "      <td>...</td>\n",
       "      <td>...</td>\n",
       "      <td>...</td>\n",
       "      <td>...</td>\n",
       "      <td>...</td>\n",
       "      <td>...</td>\n",
       "    </tr>\n",
       "    <tr>\n",
       "      <th>1114447</th>\n",
       "      <td>충북</td>\n",
       "      <td>휴양콘도 운영업</td>\n",
       "      <td>충북</td>\n",
       "      <td>70s</td>\n",
       "      <td>2</td>\n",
       "      <td>5</td>\n",
       "      <td>3</td>\n",
       "      <td>148000.0</td>\n",
       "      <td>4</td>\n",
       "      <td>0</td>\n",
       "      <td>2019</td>\n",
       "      <td>3</td>\n",
       "      <td>7.3</td>\n",
       "      <td>144712</td>\n",
       "      <td>0</td>\n",
       "      <td>50447.0</td>\n",
       "      <td>65436</td>\n",
       "      <td>0.83</td>\n",
       "    </tr>\n",
       "    <tr>\n",
       "      <th>1114448</th>\n",
       "      <td>충북</td>\n",
       "      <td>휴양콘도 운영업</td>\n",
       "      <td>충북</td>\n",
       "      <td>70s</td>\n",
       "      <td>2</td>\n",
       "      <td>5</td>\n",
       "      <td>3</td>\n",
       "      <td>230400.0</td>\n",
       "      <td>3</td>\n",
       "      <td>0</td>\n",
       "      <td>2020</td>\n",
       "      <td>1</td>\n",
       "      <td>6.9</td>\n",
       "      <td>253247</td>\n",
       "      <td>0</td>\n",
       "      <td>50447.0</td>\n",
       "      <td>65436</td>\n",
       "      <td>0.83</td>\n",
       "    </tr>\n",
       "    <tr>\n",
       "      <th>1114449</th>\n",
       "      <td>충북</td>\n",
       "      <td>휴양콘도 운영업</td>\n",
       "      <td>충북</td>\n",
       "      <td>70s</td>\n",
       "      <td>2</td>\n",
       "      <td>5</td>\n",
       "      <td>3</td>\n",
       "      <td>247800.0</td>\n",
       "      <td>3</td>\n",
       "      <td>0</td>\n",
       "      <td>2019</td>\n",
       "      <td>12</td>\n",
       "      <td>9.1</td>\n",
       "      <td>156772</td>\n",
       "      <td>0</td>\n",
       "      <td>50447.0</td>\n",
       "      <td>65436</td>\n",
       "      <td>0.84</td>\n",
       "    </tr>\n",
       "    <tr>\n",
       "      <th>1114450</th>\n",
       "      <td>충북</td>\n",
       "      <td>휴양콘도 운영업</td>\n",
       "      <td>충북</td>\n",
       "      <td>70s</td>\n",
       "      <td>2</td>\n",
       "      <td>5</td>\n",
       "      <td>5</td>\n",
       "      <td>329800.0</td>\n",
       "      <td>7</td>\n",
       "      <td>0</td>\n",
       "      <td>2019</td>\n",
       "      <td>5</td>\n",
       "      <td>7.3</td>\n",
       "      <td>144712</td>\n",
       "      <td>0</td>\n",
       "      <td>50447.0</td>\n",
       "      <td>65436</td>\n",
       "      <td>0.81</td>\n",
       "    </tr>\n",
       "    <tr>\n",
       "      <th>1114451</th>\n",
       "      <td>충북</td>\n",
       "      <td>휴양콘도 운영업</td>\n",
       "      <td>충북</td>\n",
       "      <td>70s</td>\n",
       "      <td>2</td>\n",
       "      <td>5</td>\n",
       "      <td>7</td>\n",
       "      <td>557800.0</td>\n",
       "      <td>7</td>\n",
       "      <td>4</td>\n",
       "      <td>2019</td>\n",
       "      <td>10</td>\n",
       "      <td>7.4</td>\n",
       "      <td>217068</td>\n",
       "      <td>0</td>\n",
       "      <td>50447.0</td>\n",
       "      <td>65436</td>\n",
       "      <td>0.81</td>\n",
       "    </tr>\n",
       "  </tbody>\n",
       "</table>\n",
       "<p>1114451 rows × 18 columns</p>\n",
       "</div>"
      ],
      "text/plain": [
       "        CARD_SIDO_NM STD_CLSS_NM HOM_SIDO_NM  AGE  SEX_CTGO_CD  FLC  \\\n",
       "1                 강원  건강보조식품 소매업          강원  20s            1    1   \n",
       "2                 강원  건강보조식품 소매업          강원  20s            1    1   \n",
       "3                 강원  건강보조식품 소매업          강원  20s            1    1   \n",
       "4                 강원  건강보조식품 소매업          강원  20s            1    1   \n",
       "5                 강원  건강보조식품 소매업          강원  20s            1    1   \n",
       "...              ...         ...         ...  ...          ...  ...   \n",
       "1114447           충북    휴양콘도 운영업          충북  70s            2    5   \n",
       "1114448           충북    휴양콘도 운영업          충북  70s            2    5   \n",
       "1114449           충북    휴양콘도 운영업          충북  70s            2    5   \n",
       "1114450           충북    휴양콘도 운영업          충북  70s            2    5   \n",
       "1114451           충북    휴양콘도 운영업          충북  70s            2    5   \n",
       "\n",
       "         CSTMR_CNT       AMT  CNT  festival_count  year  month  rain_day  \\\n",
       "1                3   27500.0    3               8  2019      8      13.9   \n",
       "2                3  139000.0    3               8  2019      6      10.6   \n",
       "3                3  395500.0    3              11  2019      9       9.8   \n",
       "4                3  427510.0    2               0  2020      3       7.3   \n",
       "5                3  605000.0    3               4  2019      2       4.7   \n",
       "...            ...       ...  ...             ...   ...    ...       ...   \n",
       "1114447          3  148000.0    4               0  2019      3       7.3   \n",
       "1114448          3  230400.0    3               0  2020      1       6.9   \n",
       "1114449          3  247800.0    3               0  2019     12       9.1   \n",
       "1114450          5  329800.0    7               0  2019      5       7.3   \n",
       "1114451          7  557800.0    7               4  2019     10       7.4   \n",
       "\n",
       "         total_tourist  corona_confirmed  total_sale_by_indst  \\\n",
       "1              1603895                 0              33849.0   \n",
       "2              1374767                 0              33849.0   \n",
       "3              2062151                 0              33849.0   \n",
       "4               761521                29              33849.0   \n",
       "5              2146566                 0              33849.0   \n",
       "...                ...               ...                  ...   \n",
       "1114447         144712                 0              50447.0   \n",
       "1114448         253247                 0              50447.0   \n",
       "1114449         156772                 0              50447.0   \n",
       "1114450         144712                 0              50447.0   \n",
       "1114451         217068                 0              50447.0   \n",
       "\n",
       "         sex_age_population  total_home  \n",
       "1                    100115        0.57  \n",
       "2                    100115        0.72  \n",
       "3                    100115        0.72  \n",
       "4                    100115        0.82  \n",
       "5                    100115        0.70  \n",
       "...                     ...         ...  \n",
       "1114447               65436        0.83  \n",
       "1114448               65436        0.83  \n",
       "1114449               65436        0.84  \n",
       "1114450               65436        0.81  \n",
       "1114451               65436        0.81  \n",
       "\n",
       "[1114451 rows x 18 columns]"
      ]
     },
     "execution_count": 8,
     "metadata": {},
     "output_type": "execute_result"
    }
   ],
   "source": [
    "data"
   ]
  },
  {
   "cell_type": "code",
   "execution_count": 9,
   "metadata": {},
   "outputs": [
    {
     "data": {
      "text/plain": [
       "(1114451, 18)"
      ]
     },
     "execution_count": 9,
     "metadata": {},
     "output_type": "execute_result"
    }
   ],
   "source": [
    "data.shape"
   ]
  },
  {
   "cell_type": "markdown",
   "metadata": {},
   "source": [
    "### 데이터 전처리"
   ]
  },
  {
   "cell_type": "code",
   "execution_count": 10,
   "metadata": {},
   "outputs": [],
   "source": [
    "data = data.drop(columns=['CNT', 'CSTMR_CNT'])"
   ]
  },
  {
   "cell_type": "code",
   "execution_count": 11,
   "metadata": {},
   "outputs": [],
   "source": [
    "# 데이터 정제\n",
    "data = data.fillna('')\n",
    "df = data.copy()\n",
    "columns = ['CARD_SIDO_NM', 'STD_CLSS_NM', 'HOM_SIDO_NM', 'AGE', 'SEX_CTGO_CD', 'FLC', 'year', 'month']\n",
    "df = df.groupby(columns).sum().reset_index(drop=False)"
   ]
  },
  {
   "cell_type": "code",
   "execution_count": 12,
   "metadata": {},
   "outputs": [],
   "source": [
    "df_num = df.copy()"
   ]
  },
  {
   "cell_type": "code",
   "execution_count": 13,
   "metadata": {},
   "outputs": [],
   "source": [
    "cat_features = ['CARD_SIDO_NM', 'STD_CLSS_NM', 'HOM_SIDO_NM','AGE']\n",
    "df_num[cat_features]= df_num[cat_features].apply(LabelEncoder().fit_transform)"
   ]
  },
  {
   "cell_type": "code",
   "execution_count": 14,
   "metadata": {},
   "outputs": [],
   "source": [
    "real_cat_features =  ['SEX_CTGO_CD','CARD_SIDO_NM', 'STD_CLSS_NM', 'HOM_SIDO_NM','AGE','FLC']\n",
    "for i in enumerate(real_cat_features):\n",
    "    ca = i[1]\n",
    "    df_num[ca] = df_num[ca].astype('category')"
   ]
  },
  {
   "cell_type": "markdown",
   "metadata": {},
   "source": [
    "### 모델링"
   ]
  },
  {
   "cell_type": "code",
   "execution_count": 15,
   "metadata": {},
   "outputs": [],
   "source": [
    "X = df_num[df_num.columns.difference(['AMT'])]\n",
    "y = df_num[['AMT']]"
   ]
  },
  {
   "cell_type": "code",
   "execution_count": 16,
   "metadata": {},
   "outputs": [],
   "source": [
    "from sklearn.model_selection import train_test_split\n",
    "X_train, X_test, y_train, y_test = train_test_split(X, y,\n",
    "                                                    test_size=0.3,\n",
    "                                                    shuffle=True,\n",
    "                                                    random_state=2020)"
   ]
  },
  {
   "cell_type": "code",
   "execution_count": null,
   "metadata": {},
   "outputs": [],
   "source": [
    "from sklearn.model_selection import GridSearchCV\n",
    "\n",
    "params = { 'n_estimators' : [10, 100],\n",
    "           'max_depth' : [6, 8, 10, 12],\n",
    "           'min_samples_leaf' : [8, 12, 18],\n",
    "           'min_samples_split' : [8, 16, 20]\n",
    "            }\n",
    "\n",
    "# GridSearchCV 수행\n",
    "rf_reg = RandomForestRegressor(random_state = 2020, n_jobs = -1)\n",
    "rf_grid = GridSearchCV(rf_reg, param_grid = params, cv = 3, n_jobs = -1)\n",
    "rf_grid.fit(X_train, np.ravel(y_train))"
   ]
  },
  {
   "cell_type": "code",
   "execution_count": null,
   "metadata": {},
   "outputs": [],
   "source": [
    "rf_grid.best_params_"
   ]
  },
  {
   "cell_type": "markdown",
   "metadata": {},
   "source": [
    "---- 쓰레기 ----"
   ]
  },
  {
   "cell_type": "code",
   "execution_count": null,
   "metadata": {},
   "outputs": [],
   "source": [
    "from sklearn.model_selection import train_test_split\n",
    "X = data.drop(columns=['AMT'])\n",
    "y = data['AMT']\n",
    "X_train, X_test, y_train, y_test = train_test_split(X, y, test_size=0.3, shuffle=False,random_state=2020)\n",
    "X_train.shape"
   ]
  },
  {
   "cell_type": "code",
   "execution_count": null,
   "metadata": {},
   "outputs": [],
   "source": [
    "X_train.columns = [\"\".join (c if c.isalnum() else \"_\" for c in str(x)) for x in X_train.columns]\n",
    "X_test.columns = [\"\".join (c if c.isalnum() else \"_\" for c in str(x)) for x in X_test.columns]"
   ]
  },
  {
   "cell_type": "code",
   "execution_count": null,
   "metadata": {},
   "outputs": [],
   "source": [
    "from sklearn.model_selection import GridSearchCV\n",
    "\n",
    "params = { 'n_estimators' : [10, 100],\n",
    "           'max_depth' : [6, 8, 10, 12],\n",
    "           'min_samples_leaf' : [8, 12, 18],\n",
    "           'min_samples_split' : [8, 16, 20]\n",
    "            }\n",
    "\n",
    "# GridSearchCV 수행\n",
    "rf_reg = RandomForestRegressor(random_state = 2020, n_jobs = -1)\n",
    "rf_grid = GridSearchCV(rf_reg, param_grid = params, cv = 3, n_jobs = -1)\n",
    "rf_grid.fit(X_train, y_train)"
   ]
  },
  {
   "cell_type": "code",
   "execution_count": null,
   "metadata": {},
   "outputs": [],
   "source": [
    "rf_grid.best_params_"
   ]
  },
  {
   "cell_type": "code",
   "execution_count": null,
   "metadata": {},
   "outputs": [],
   "source": [
    "# 데이터 정제\n",
    "data = data.fillna('')\n",
    "df = data.copy()\n",
    "columns = ['CARD_SIDO_NM', 'STD_CLSS_NM', 'HOM_SIDO_NM', 'AGE', 'SEX_CTGO_CD', 'FLC', 'year', 'month']\n",
    "df = df.groupby(columns).sum().reset_index(drop=False)"
   ]
  },
  {
   "cell_type": "code",
   "execution_count": null,
   "metadata": {},
   "outputs": [],
   "source": [
    "df_num = df.copy()"
   ]
  },
  {
   "cell_type": "code",
   "execution_count": null,
   "metadata": {},
   "outputs": [],
   "source": [
    "cat_features = ['CARD_SIDO_NM', 'STD_CLSS_NM', 'HOM_SIDO_NM','AGE']\n",
    "df_num[cat_features]= df_num[cat_features].apply(LabelEncoder().fit_transform)"
   ]
  },
  {
   "cell_type": "code",
   "execution_count": null,
   "metadata": {},
   "outputs": [],
   "source": [
    "real_cat_features =  ['SEX_CTGO_CD','CARD_SIDO_NM', 'STD_CLSS_NM', 'HOM_SIDO_NM','AGE','FLC']\n",
    "for i in enumerate(real_cat_features):\n",
    "    ca = i[1]\n",
    "    df_num[ca] = df_num[ca].astype('category')"
   ]
  },
  {
   "cell_type": "markdown",
   "metadata": {},
   "source": [
    "### 모델링"
   ]
  },
  {
   "cell_type": "code",
   "execution_count": null,
   "metadata": {},
   "outputs": [],
   "source": [
    "X = df_num[df_num.columns.difference(['AMT'])]\n",
    "y = df_num[['AMT']]"
   ]
  },
  {
   "cell_type": "code",
   "execution_count": null,
   "metadata": {},
   "outputs": [],
   "source": [
    "from sklearn.model_selection import train_test_split\n",
    "X_train, X_test, y_train, y_test = train_test_split(X, y,\n",
    "                                                    test_size=0.3,\n",
    "                                                    shuffle=True,\n",
    "                                                    random_state=2020)"
   ]
  },
  {
   "cell_type": "code",
   "execution_count": null,
   "metadata": {},
   "outputs": [],
   "source": [
    "model = joblib.load('rf_initial.pkl')\n",
    "model"
   ]
  },
  {
   "cell_type": "code",
   "execution_count": null,
   "metadata": {},
   "outputs": [],
   "source": [
    "from sklearn.model_selection import GridSearchCV\n",
    "\n",
    "params = { 'n_estimators' : [10, 100],\n",
    "           'max_depth' : [6, 8, 10, 12],\n",
    "           'min_samples_leaf' : [8, 12, 18],\n",
    "           'min_samples_split' : [8, 16, 20]\n",
    "            }\n",
    "\n",
    "# RandomForestClassifier 객체 생성 후 GridSearchCV 수행\n",
    "# rf_clf = RandomForestClassifier(random_state = 0, n_jobs = -1)\n",
    "grid_cv = GridSearchCV(model, param_grid = params, cv = 3, n_jobs = -1)\n",
    "grid_cv.fit(X_train, y_train)\n",
    "\n",
    "print('최적 하이퍼 파라미터: ', grid_cv.best_params_)\n",
    "print('최고 예측 정확도: {:.4f}'.format(grid_cv.best_score_))"
   ]
  },
  {
   "cell_type": "code",
   "execution_count": null,
   "metadata": {},
   "outputs": [],
   "source": [
    "from sklearn.model_selection import GridSearchCV\n",
    " \n",
    "param_grid = [\n",
    "        {'n_estimators': [3, 10, 30], 'max_features': [2, 4, 6, 8]},\n",
    "        {'bootstrap': [False], 'n_estimators': [3, 10], 'max_features': [2, 3, 4]},\n",
    "    ]\n",
    "rf_reg = RandomForestRegressor()\n",
    " \n",
    "grid_search = GridSearchCV(rf_reg, param_grid, cv=5,\n",
    "                           scoring='neg_mean_squared_error',\n",
    "                           return_train_score=True)\n",
    " \n",
    "grid_search.fit(X_train, np.ravel(y_train))"
   ]
  },
  {
   "cell_type": "code",
   "execution_count": null,
   "metadata": {},
   "outputs": [],
   "source": []
  }
 ],
 "metadata": {
  "kernelspec": {
   "display_name": "Python 3",
   "language": "python",
   "name": "python3"
  },
  "language_info": {
   "codemirror_mode": {
    "name": "ipython",
    "version": 3
   },
   "file_extension": ".py",
   "mimetype": "text/x-python",
   "name": "python",
   "nbconvert_exporter": "python",
   "pygments_lexer": "ipython3",
   "version": "3.7.7"
  }
 },
 "nbformat": 4,
 "nbformat_minor": 2
}
