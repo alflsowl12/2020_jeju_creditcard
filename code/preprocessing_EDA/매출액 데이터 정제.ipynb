{
 "cells": [
  {
   "cell_type": "code",
   "execution_count": 1,
   "metadata": {},
   "outputs": [],
   "source": [
    "import pandas as pd\n",
    "import numpy as np\n",
    "import matplotlib.pyplot as plt\n",
    "import seaborn as sns"
   ]
  },
  {
   "cell_type": "code",
   "execution_count": 2,
   "metadata": {},
   "outputs": [],
   "source": [
    "data=pd.read_csv('data/201901-202003.csv')"
   ]
  },
  {
   "cell_type": "code",
   "execution_count": 3,
   "metadata": {},
   "outputs": [],
   "source": [
    "clss_lst = data['STD_CLSS_NM'].unique()"
   ]
  },
  {
   "cell_type": "code",
   "execution_count": 4,
   "metadata": {},
   "outputs": [
    {
     "name": "stdout",
     "output_type": "stream",
     "text": [
      "건강보조식품 소매업\n",
      "골프장 운영업\n",
      "과실 및 채소 소매업\n",
      "관광 민예품 및 선물용품 소매업\n",
      "그외 기타 스포츠시설 운영업\n",
      "그외 기타 종합 소매업\n",
      "기타 대형 종합 소매업\n",
      "기타 외국식 음식점업\n",
      "기타 주점업\n",
      "기타음식료품위주종합소매업\n",
      "마사지업\n",
      "비알콜 음료점업\n",
      "빵 및 과자류 소매업\n",
      "서양식 음식점업\n",
      "수산물 소매업\n",
      "슈퍼마켓\n",
      "스포츠 및 레크레이션 용품 임대업\n",
      "여관업\n",
      "욕탕업\n",
      "육류 소매업\n",
      "일반유흥 주점업\n",
      "일식 음식점업\n",
      "전시 및 행사 대행업\n",
      "중식 음식점업\n",
      "차량용 가스 충전업\n",
      "차량용 주유소 운영업\n",
      "체인화 편의점\n",
      "피자 햄버거 샌드위치 및 유사 음식점업\n",
      "한식 음식점업\n",
      "호텔업\n",
      "화장품 및 방향제 소매업\n",
      "휴양콘도 운영업\n",
      "여행사업\n",
      "자동차 임대업\n",
      "면세점\n",
      "버스 운송업\n",
      "택시 운송업\n",
      "기타 수상오락 서비스업\n",
      "내항 여객 운송업\n",
      "그외 기타 분류안된 오락관련 서비스업\n",
      "정기 항공 운송업\n"
     ]
    }
   ],
   "source": [
    "for i in clss_lst:\n",
    "    print(i)"
   ]
  },
  {
   "cell_type": "code",
   "execution_count": 5,
   "metadata": {
    "scrolled": true
   },
   "outputs": [
    {
     "data": {
      "text/plain": [
       "41"
      ]
     },
     "execution_count": 5,
     "metadata": {},
     "output_type": "execute_result"
    }
   ],
   "source": [
    "len(data['STD_CLSS_NM'].unique())"
   ]
  },
  {
   "cell_type": "markdown",
   "metadata": {},
   "source": [
    "### 면세점은 데이터가 없음"
   ]
  },
  {
   "cell_type": "markdown",
   "metadata": {},
   "source": [
    "## 운송업"
   ]
  },
  {
   "cell_type": "code",
   "execution_count": 84,
   "metadata": {},
   "outputs": [],
   "source": [
    "us = pd.read_csv(\"data/unsong.csv\", encoding = \"euc-kr\")"
   ]
  },
  {
   "cell_type": "code",
   "execution_count": 85,
   "metadata": {},
   "outputs": [
    {
     "data": {
      "text/html": [
       "<div>\n",
       "<style scoped>\n",
       "    .dataframe tbody tr th:only-of-type {\n",
       "        vertical-align: middle;\n",
       "    }\n",
       "\n",
       "    .dataframe tbody tr th {\n",
       "        vertical-align: top;\n",
       "    }\n",
       "\n",
       "    .dataframe thead th {\n",
       "        text-align: right;\n",
       "    }\n",
       "</style>\n",
       "<table border=\"1\" class=\"dataframe\">\n",
       "  <thead>\n",
       "    <tr style=\"text-align: right;\">\n",
       "      <th></th>\n",
       "      <th>산업별</th>\n",
       "      <th>매출액규모별</th>\n",
       "      <th>2018</th>\n",
       "    </tr>\n",
       "  </thead>\n",
       "  <tbody>\n",
       "    <tr>\n",
       "      <th>0</th>\n",
       "      <td>산업별</td>\n",
       "      <td>매출액규모별</td>\n",
       "      <td>매출액 (백만원)</td>\n",
       "    </tr>\n",
       "    <tr>\n",
       "      <th>1</th>\n",
       "      <td>총계</td>\n",
       "      <td>합계</td>\n",
       "      <td>146931941</td>\n",
       "    </tr>\n",
       "    <tr>\n",
       "      <th>2</th>\n",
       "      <td>시내버스 운송업</td>\n",
       "      <td>합계</td>\n",
       "      <td>6585631</td>\n",
       "    </tr>\n",
       "    <tr>\n",
       "      <th>3</th>\n",
       "      <td>시외버스 운송업</td>\n",
       "      <td>합계</td>\n",
       "      <td>1905755</td>\n",
       "    </tr>\n",
       "    <tr>\n",
       "      <th>4</th>\n",
       "      <td>택시 운송업</td>\n",
       "      <td>합계</td>\n",
       "      <td>8568071</td>\n",
       "    </tr>\n",
       "    <tr>\n",
       "      <th>5</th>\n",
       "      <td>내항 여객 운송업</td>\n",
       "      <td>합계</td>\n",
       "      <td>311636</td>\n",
       "    </tr>\n",
       "    <tr>\n",
       "      <th>6</th>\n",
       "      <td>항공 여객 운송업</td>\n",
       "      <td>합계</td>\n",
       "      <td>20271733</td>\n",
       "    </tr>\n",
       "  </tbody>\n",
       "</table>\n",
       "</div>"
      ],
      "text/plain": [
       "         산업별  매출액규모별       2018\n",
       "0        산업별  매출액규모별  매출액 (백만원)\n",
       "1         총계      합계  146931941\n",
       "2   시내버스 운송업      합계    6585631\n",
       "3   시외버스 운송업      합계    1905755\n",
       "4     택시 운송업      합계    8568071\n",
       "5  내항 여객 운송업      합계     311636\n",
       "6  항공 여객 운송업      합계   20271733"
      ]
     },
     "execution_count": 85,
     "metadata": {},
     "output_type": "execute_result"
    }
   ],
   "source": [
    "us"
   ]
  },
  {
   "cell_type": "code",
   "execution_count": 86,
   "metadata": {},
   "outputs": [
    {
     "name": "stderr",
     "output_type": "stream",
     "text": [
      "/Users/jominju/opt/anaconda3/lib/python3.7/site-packages/pandas/core/frame.py:3997: SettingWithCopyWarning: \n",
      "A value is trying to be set on a copy of a slice from a DataFrame\n",
      "\n",
      "See the caveats in the documentation: https://pandas.pydata.org/pandas-docs/stable/user_guide/indexing.html#returning-a-view-versus-a-copy\n",
      "  errors=errors,\n",
      "/Users/jominju/opt/anaconda3/lib/python3.7/site-packages/pandas/core/frame.py:4133: SettingWithCopyWarning: \n",
      "A value is trying to be set on a copy of a slice from a DataFrame\n",
      "\n",
      "See the caveats in the documentation: https://pandas.pydata.org/pandas-docs/stable/user_guide/indexing.html#returning-a-view-versus-a-copy\n",
      "  errors=errors,\n"
     ]
    },
    {
     "data": {
      "text/html": [
       "<div>\n",
       "<style scoped>\n",
       "    .dataframe tbody tr th:only-of-type {\n",
       "        vertical-align: middle;\n",
       "    }\n",
       "\n",
       "    .dataframe tbody tr th {\n",
       "        vertical-align: top;\n",
       "    }\n",
       "\n",
       "    .dataframe thead th {\n",
       "        text-align: right;\n",
       "    }\n",
       "</style>\n",
       "<table border=\"1\" class=\"dataframe\">\n",
       "  <thead>\n",
       "    <tr style=\"text-align: right;\">\n",
       "      <th></th>\n",
       "      <th>산업별</th>\n",
       "      <th>매출액</th>\n",
       "    </tr>\n",
       "  </thead>\n",
       "  <tbody>\n",
       "    <tr>\n",
       "      <th>2</th>\n",
       "      <td>시내버스 운송업</td>\n",
       "      <td>6585631</td>\n",
       "    </tr>\n",
       "    <tr>\n",
       "      <th>3</th>\n",
       "      <td>시외버스 운송업</td>\n",
       "      <td>1905755</td>\n",
       "    </tr>\n",
       "    <tr>\n",
       "      <th>4</th>\n",
       "      <td>택시 운송업</td>\n",
       "      <td>8568071</td>\n",
       "    </tr>\n",
       "    <tr>\n",
       "      <th>5</th>\n",
       "      <td>내항 여객 운송업</td>\n",
       "      <td>311636</td>\n",
       "    </tr>\n",
       "    <tr>\n",
       "      <th>6</th>\n",
       "      <td>항공 여객 운송업</td>\n",
       "      <td>20271733</td>\n",
       "    </tr>\n",
       "  </tbody>\n",
       "</table>\n",
       "</div>"
      ],
      "text/plain": [
       "         산업별       매출액\n",
       "2   시내버스 운송업   6585631\n",
       "3   시외버스 운송업   1905755\n",
       "4     택시 운송업   8568071\n",
       "5  내항 여객 운송업    311636\n",
       "6  항공 여객 운송업  20271733"
      ]
     },
     "execution_count": 86,
     "metadata": {},
     "output_type": "execute_result"
    }
   ],
   "source": [
    "us = us.loc[2:]\n",
    "us.drop(\"매출액규모별\", axis = 1, inplace = True)\n",
    "us.rename(columns={\"2018\" : \"매출액\"}, inplace = True)\n",
    "us.head()"
   ]
  },
  {
   "cell_type": "code",
   "execution_count": 87,
   "metadata": {},
   "outputs": [
    {
     "data": {
      "text/html": [
       "<div>\n",
       "<style scoped>\n",
       "    .dataframe tbody tr th:only-of-type {\n",
       "        vertical-align: middle;\n",
       "    }\n",
       "\n",
       "    .dataframe tbody tr th {\n",
       "        vertical-align: top;\n",
       "    }\n",
       "\n",
       "    .dataframe thead th {\n",
       "        text-align: right;\n",
       "    }\n",
       "</style>\n",
       "<table border=\"1\" class=\"dataframe\">\n",
       "  <thead>\n",
       "    <tr style=\"text-align: right;\">\n",
       "      <th></th>\n",
       "      <th>산업별</th>\n",
       "      <th>매출액</th>\n",
       "    </tr>\n",
       "  </thead>\n",
       "  <tbody>\n",
       "    <tr>\n",
       "      <th>0</th>\n",
       "      <td>시내버스 운송업</td>\n",
       "      <td>6585631</td>\n",
       "    </tr>\n",
       "    <tr>\n",
       "      <th>1</th>\n",
       "      <td>시외버스 운송업</td>\n",
       "      <td>1905755</td>\n",
       "    </tr>\n",
       "    <tr>\n",
       "      <th>2</th>\n",
       "      <td>택시 운송업</td>\n",
       "      <td>8568071</td>\n",
       "    </tr>\n",
       "    <tr>\n",
       "      <th>3</th>\n",
       "      <td>내항 여객 운송업</td>\n",
       "      <td>311636</td>\n",
       "    </tr>\n",
       "    <tr>\n",
       "      <th>4</th>\n",
       "      <td>항공 여객 운송업</td>\n",
       "      <td>20271733</td>\n",
       "    </tr>\n",
       "    <tr>\n",
       "      <th>5</th>\n",
       "      <td>버스 운송업</td>\n",
       "      <td>8491386</td>\n",
       "    </tr>\n",
       "  </tbody>\n",
       "</table>\n",
       "</div>"
      ],
      "text/plain": [
       "         산업별       매출액\n",
       "0   시내버스 운송업   6585631\n",
       "1   시외버스 운송업   1905755\n",
       "2     택시 운송업   8568071\n",
       "3  내항 여객 운송업    311636\n",
       "4  항공 여객 운송업  20271733\n",
       "5     버스 운송업   8491386"
      ]
     },
     "execution_count": 87,
     "metadata": {},
     "output_type": "execute_result"
    }
   ],
   "source": [
    "us = us.append({\"산업별\" : \"버스 운송업\", \"매출액\" : int(us.iloc[0,1]) + int(us.iloc[1,1])}, ignore_index = True)\n",
    "us"
   ]
  },
  {
   "cell_type": "code",
   "execution_count": 88,
   "metadata": {},
   "outputs": [
    {
     "data": {
      "text/html": [
       "<div>\n",
       "<style scoped>\n",
       "    .dataframe tbody tr th:only-of-type {\n",
       "        vertical-align: middle;\n",
       "    }\n",
       "\n",
       "    .dataframe tbody tr th {\n",
       "        vertical-align: top;\n",
       "    }\n",
       "\n",
       "    .dataframe thead th {\n",
       "        text-align: right;\n",
       "    }\n",
       "</style>\n",
       "<table border=\"1\" class=\"dataframe\">\n",
       "  <thead>\n",
       "    <tr style=\"text-align: right;\">\n",
       "      <th></th>\n",
       "      <th>산업별</th>\n",
       "      <th>매출액</th>\n",
       "    </tr>\n",
       "  </thead>\n",
       "  <tbody>\n",
       "    <tr>\n",
       "      <th>0</th>\n",
       "      <td>택시 운송업</td>\n",
       "      <td>8568071</td>\n",
       "    </tr>\n",
       "    <tr>\n",
       "      <th>1</th>\n",
       "      <td>내항 여객 운송업</td>\n",
       "      <td>311636</td>\n",
       "    </tr>\n",
       "    <tr>\n",
       "      <th>2</th>\n",
       "      <td>항공 여객 운송업</td>\n",
       "      <td>20271733</td>\n",
       "    </tr>\n",
       "    <tr>\n",
       "      <th>3</th>\n",
       "      <td>버스 운송업</td>\n",
       "      <td>8491386</td>\n",
       "    </tr>\n",
       "  </tbody>\n",
       "</table>\n",
       "</div>"
      ],
      "text/plain": [
       "         산업별       매출액\n",
       "0     택시 운송업   8568071\n",
       "1  내항 여객 운송업    311636\n",
       "2  항공 여객 운송업  20271733\n",
       "3     버스 운송업   8491386"
      ]
     },
     "execution_count": 88,
     "metadata": {},
     "output_type": "execute_result"
    }
   ],
   "source": [
    "us.drop([0,1], inplace = True)\n",
    "us.reset_index(inplace = True, drop = True)\n",
    "us"
   ]
  },
  {
   "cell_type": "code",
   "execution_count": 89,
   "metadata": {},
   "outputs": [
    {
     "data": {
      "text/html": [
       "<div>\n",
       "<style scoped>\n",
       "    .dataframe tbody tr th:only-of-type {\n",
       "        vertical-align: middle;\n",
       "    }\n",
       "\n",
       "    .dataframe tbody tr th {\n",
       "        vertical-align: top;\n",
       "    }\n",
       "\n",
       "    .dataframe thead th {\n",
       "        text-align: right;\n",
       "    }\n",
       "</style>\n",
       "<table border=\"1\" class=\"dataframe\">\n",
       "  <thead>\n",
       "    <tr style=\"text-align: right;\">\n",
       "      <th></th>\n",
       "      <th>산업별</th>\n",
       "      <th>매출액</th>\n",
       "    </tr>\n",
       "  </thead>\n",
       "  <tbody>\n",
       "    <tr>\n",
       "      <th>0</th>\n",
       "      <td>택시 운송업</td>\n",
       "      <td>8568071</td>\n",
       "    </tr>\n",
       "    <tr>\n",
       "      <th>1</th>\n",
       "      <td>내항 여객 운송업</td>\n",
       "      <td>311636</td>\n",
       "    </tr>\n",
       "    <tr>\n",
       "      <th>2</th>\n",
       "      <td>정기 항공 운송업</td>\n",
       "      <td>20271733</td>\n",
       "    </tr>\n",
       "    <tr>\n",
       "      <th>3</th>\n",
       "      <td>버스 운송업</td>\n",
       "      <td>8491386</td>\n",
       "    </tr>\n",
       "  </tbody>\n",
       "</table>\n",
       "</div>"
      ],
      "text/plain": [
       "         산업별       매출액\n",
       "0     택시 운송업   8568071\n",
       "1  내항 여객 운송업    311636\n",
       "2  정기 항공 운송업  20271733\n",
       "3     버스 운송업   8491386"
      ]
     },
     "execution_count": 89,
     "metadata": {},
     "output_type": "execute_result"
    }
   ],
   "source": [
    "us[\"산업별\"][us[\"산업별\"] == \"항공 여객 운송업\"] = \"정기 항공 운송업\"\n",
    "us"
   ]
  },
  {
   "cell_type": "markdown",
   "metadata": {},
   "source": [
    "## 소매, 음식업"
   ]
  },
  {
   "cell_type": "code",
   "execution_count": 90,
   "metadata": {},
   "outputs": [],
   "source": [
    "sm_food = pd.read_csv(\"data/somae_food.csv\", encoding = \"euc-kr\")"
   ]
  },
  {
   "cell_type": "code",
   "execution_count": 91,
   "metadata": {},
   "outputs": [
    {
     "data": {
      "text/html": [
       "<div>\n",
       "<style scoped>\n",
       "    .dataframe tbody tr th:only-of-type {\n",
       "        vertical-align: middle;\n",
       "    }\n",
       "\n",
       "    .dataframe tbody tr th {\n",
       "        vertical-align: top;\n",
       "    }\n",
       "\n",
       "    .dataframe thead th {\n",
       "        text-align: right;\n",
       "    }\n",
       "</style>\n",
       "<table border=\"1\" class=\"dataframe\">\n",
       "  <thead>\n",
       "    <tr style=\"text-align: right;\">\n",
       "      <th></th>\n",
       "      <th>시도별</th>\n",
       "      <th>산업별</th>\n",
       "      <th>매출액규모별</th>\n",
       "      <th>2016</th>\n",
       "    </tr>\n",
       "  </thead>\n",
       "  <tbody>\n",
       "    <tr>\n",
       "      <th>0</th>\n",
       "      <td>시도별</td>\n",
       "      <td>산업별</td>\n",
       "      <td>매출액규모별</td>\n",
       "      <td>매출액(백만원)</td>\n",
       "    </tr>\n",
       "    <tr>\n",
       "      <th>1</th>\n",
       "      <td>전국</td>\n",
       "      <td>기타 대형 종합 소매업</td>\n",
       "      <td>총계</td>\n",
       "      <td>41104330</td>\n",
       "    </tr>\n",
       "    <tr>\n",
       "      <th>2</th>\n",
       "      <td>전국</td>\n",
       "      <td>슈퍼마켓</td>\n",
       "      <td>총계</td>\n",
       "      <td>36231039</td>\n",
       "    </tr>\n",
       "    <tr>\n",
       "      <th>3</th>\n",
       "      <td>전국</td>\n",
       "      <td>체인화 편의점</td>\n",
       "      <td>총계</td>\n",
       "      <td>20253703</td>\n",
       "    </tr>\n",
       "    <tr>\n",
       "      <th>4</th>\n",
       "      <td>전국</td>\n",
       "      <td>기타 음·식료품 위주 종합 소매업</td>\n",
       "      <td>총계</td>\n",
       "      <td>11044720</td>\n",
       "    </tr>\n",
       "  </tbody>\n",
       "</table>\n",
       "</div>"
      ],
      "text/plain": [
       "   시도별                 산업별  매출액규모별      2016\n",
       "0  시도별                 산업별  매출액규모별  매출액(백만원)\n",
       "1   전국        기타 대형 종합 소매업      총계  41104330\n",
       "2   전국                슈퍼마켓      총계  36231039\n",
       "3   전국             체인화 편의점      총계  20253703\n",
       "4   전국  기타 음·식료품 위주 종합 소매업      총계  11044720"
      ]
     },
     "execution_count": 91,
     "metadata": {},
     "output_type": "execute_result"
    }
   ],
   "source": [
    "sm_food.head()"
   ]
  },
  {
   "cell_type": "code",
   "execution_count": 92,
   "metadata": {},
   "outputs": [],
   "source": [
    "sm_food.drop(\"매출액규모별\", axis = 1, inplace = True)\n",
    "sm_food = sm_food.loc[1:]\n",
    "sm_food = sm_food[sm_food[\"시도별\"] != \"전국\"]"
   ]
  },
  {
   "cell_type": "code",
   "execution_count": 93,
   "metadata": {},
   "outputs": [
    {
     "data": {
      "text/html": [
       "<div>\n",
       "<style scoped>\n",
       "    .dataframe tbody tr th:only-of-type {\n",
       "        vertical-align: middle;\n",
       "    }\n",
       "\n",
       "    .dataframe tbody tr th {\n",
       "        vertical-align: top;\n",
       "    }\n",
       "\n",
       "    .dataframe thead th {\n",
       "        text-align: right;\n",
       "    }\n",
       "</style>\n",
       "<table border=\"1\" class=\"dataframe\">\n",
       "  <thead>\n",
       "    <tr style=\"text-align: right;\">\n",
       "      <th></th>\n",
       "      <th>시도별</th>\n",
       "      <th>산업별</th>\n",
       "      <th>2016</th>\n",
       "    </tr>\n",
       "  </thead>\n",
       "  <tbody>\n",
       "    <tr>\n",
       "      <th>27</th>\n",
       "      <td>서울특별시</td>\n",
       "      <td>기타 대형 종합 소매업</td>\n",
       "      <td>11790872</td>\n",
       "    </tr>\n",
       "    <tr>\n",
       "      <th>28</th>\n",
       "      <td>서울특별시</td>\n",
       "      <td>슈퍼마켓</td>\n",
       "      <td>6097608</td>\n",
       "    </tr>\n",
       "    <tr>\n",
       "      <th>29</th>\n",
       "      <td>서울특별시</td>\n",
       "      <td>체인화 편의점</td>\n",
       "      <td>5628865</td>\n",
       "    </tr>\n",
       "    <tr>\n",
       "      <th>30</th>\n",
       "      <td>서울특별시</td>\n",
       "      <td>기타 음·식료품 위주 종합 소매업</td>\n",
       "      <td>2212721</td>\n",
       "    </tr>\n",
       "    <tr>\n",
       "      <th>31</th>\n",
       "      <td>서울특별시</td>\n",
       "      <td>그외 기타 종합 소매업</td>\n",
       "      <td>970747</td>\n",
       "    </tr>\n",
       "    <tr>\n",
       "      <th>32</th>\n",
       "      <td>서울특별시</td>\n",
       "      <td>육류 소매업</td>\n",
       "      <td>1405284</td>\n",
       "    </tr>\n",
       "    <tr>\n",
       "      <th>33</th>\n",
       "      <td>서울특별시</td>\n",
       "      <td>수산물 소매업</td>\n",
       "      <td>435467</td>\n",
       "    </tr>\n",
       "    <tr>\n",
       "      <th>34</th>\n",
       "      <td>서울특별시</td>\n",
       "      <td>과실 및 채소 소매업</td>\n",
       "      <td>813708</td>\n",
       "    </tr>\n",
       "    <tr>\n",
       "      <th>35</th>\n",
       "      <td>서울특별시</td>\n",
       "      <td>빵 및 과자류 소매업</td>\n",
       "      <td>128047</td>\n",
       "    </tr>\n",
       "    <tr>\n",
       "      <th>36</th>\n",
       "      <td>서울특별시</td>\n",
       "      <td>건강보조식품 소매업</td>\n",
       "      <td>1014807</td>\n",
       "    </tr>\n",
       "  </tbody>\n",
       "</table>\n",
       "</div>"
      ],
      "text/plain": [
       "      시도별                 산업별      2016\n",
       "27  서울특별시        기타 대형 종합 소매업  11790872\n",
       "28  서울특별시                슈퍼마켓   6097608\n",
       "29  서울특별시             체인화 편의점   5628865\n",
       "30  서울특별시  기타 음·식료품 위주 종합 소매업   2212721\n",
       "31  서울특별시        그외 기타 종합 소매업    970747\n",
       "32  서울특별시              육류 소매업   1405284\n",
       "33  서울특별시             수산물 소매업    435467\n",
       "34  서울특별시         과실 및 채소 소매업    813708\n",
       "35  서울특별시         빵 및 과자류 소매업    128047\n",
       "36  서울특별시          건강보조식품 소매업   1014807"
      ]
     },
     "execution_count": 93,
     "metadata": {},
     "output_type": "execute_result"
    }
   ],
   "source": [
    "sm_food.head(10)"
   ]
  },
  {
   "cell_type": "code",
   "execution_count": 94,
   "metadata": {},
   "outputs": [
    {
     "data": {
      "text/html": [
       "<div>\n",
       "<style scoped>\n",
       "    .dataframe tbody tr th:only-of-type {\n",
       "        vertical-align: middle;\n",
       "    }\n",
       "\n",
       "    .dataframe tbody tr th {\n",
       "        vertical-align: top;\n",
       "    }\n",
       "\n",
       "    .dataframe thead th {\n",
       "        text-align: right;\n",
       "    }\n",
       "</style>\n",
       "<table border=\"1\" class=\"dataframe\">\n",
       "  <thead>\n",
       "    <tr style=\"text-align: right;\">\n",
       "      <th></th>\n",
       "      <th>시도별</th>\n",
       "      <th>산업별</th>\n",
       "      <th>2016</th>\n",
       "    </tr>\n",
       "  </thead>\n",
       "  <tbody>\n",
       "    <tr>\n",
       "      <th>0</th>\n",
       "      <td>서울특별시</td>\n",
       "      <td>기타 대형 종합 소매업</td>\n",
       "      <td>11790872</td>\n",
       "    </tr>\n",
       "    <tr>\n",
       "      <th>1</th>\n",
       "      <td>서울특별시</td>\n",
       "      <td>슈퍼마켓</td>\n",
       "      <td>6097608</td>\n",
       "    </tr>\n",
       "    <tr>\n",
       "      <th>2</th>\n",
       "      <td>서울특별시</td>\n",
       "      <td>체인화 편의점</td>\n",
       "      <td>5628865</td>\n",
       "    </tr>\n",
       "    <tr>\n",
       "      <th>3</th>\n",
       "      <td>서울특별시</td>\n",
       "      <td>기타 음·식료품 위주 종합 소매업</td>\n",
       "      <td>2212721</td>\n",
       "    </tr>\n",
       "    <tr>\n",
       "      <th>4</th>\n",
       "      <td>서울특별시</td>\n",
       "      <td>그외 기타 종합 소매업</td>\n",
       "      <td>970747</td>\n",
       "    </tr>\n",
       "  </tbody>\n",
       "</table>\n",
       "</div>"
      ],
      "text/plain": [
       "     시도별                 산업별      2016\n",
       "0  서울특별시        기타 대형 종합 소매업  11790872\n",
       "1  서울특별시                슈퍼마켓   6097608\n",
       "2  서울특별시             체인화 편의점   5628865\n",
       "3  서울특별시  기타 음·식료품 위주 종합 소매업   2212721\n",
       "4  서울특별시        그외 기타 종합 소매업    970747"
      ]
     },
     "execution_count": 94,
     "metadata": {},
     "output_type": "execute_result"
    }
   ],
   "source": [
    "sm_food.reset_index(drop = True, inplace = True)\n",
    "sm_food.head()"
   ]
  },
  {
   "cell_type": "markdown",
   "metadata": {},
   "source": [
    "## 기타"
   ]
  },
  {
   "cell_type": "code",
   "execution_count": 95,
   "metadata": {},
   "outputs": [],
   "source": [
    "gt = pd.read_csv(\"data/gita.csv\", encoding = \"euc-kr\")"
   ]
  },
  {
   "cell_type": "code",
   "execution_count": 96,
   "metadata": {},
   "outputs": [
    {
     "data": {
      "text/html": [
       "<div>\n",
       "<style scoped>\n",
       "    .dataframe tbody tr th:only-of-type {\n",
       "        vertical-align: middle;\n",
       "    }\n",
       "\n",
       "    .dataframe tbody tr th {\n",
       "        vertical-align: top;\n",
       "    }\n",
       "\n",
       "    .dataframe thead th {\n",
       "        text-align: right;\n",
       "    }\n",
       "</style>\n",
       "<table border=\"1\" class=\"dataframe\">\n",
       "  <thead>\n",
       "    <tr style=\"text-align: right;\">\n",
       "      <th></th>\n",
       "      <th>시도별</th>\n",
       "      <th>산업별</th>\n",
       "      <th>매출액규모별</th>\n",
       "      <th>2016</th>\n",
       "    </tr>\n",
       "  </thead>\n",
       "  <tbody>\n",
       "    <tr>\n",
       "      <th>0</th>\n",
       "      <td>시도별</td>\n",
       "      <td>산업별</td>\n",
       "      <td>매출액규모별</td>\n",
       "      <td>매출액 (백만원)</td>\n",
       "    </tr>\n",
       "    <tr>\n",
       "      <th>1</th>\n",
       "      <td>전국</td>\n",
       "      <td>자동차 임대업</td>\n",
       "      <td>총계</td>\n",
       "      <td>5428294</td>\n",
       "    </tr>\n",
       "    <tr>\n",
       "      <th>2</th>\n",
       "      <td>전국</td>\n",
       "      <td>스포츠 및 레크레이션 용품 임대업</td>\n",
       "      <td>총계</td>\n",
       "      <td>128847</td>\n",
       "    </tr>\n",
       "    <tr>\n",
       "      <th>3</th>\n",
       "      <td>전국</td>\n",
       "      <td>여행사업</td>\n",
       "      <td>총계</td>\n",
       "      <td>3812948</td>\n",
       "    </tr>\n",
       "    <tr>\n",
       "      <th>4</th>\n",
       "      <td>전국</td>\n",
       "      <td>전시 및 행사 대행업</td>\n",
       "      <td>총계</td>\n",
       "      <td>2231055</td>\n",
       "    </tr>\n",
       "  </tbody>\n",
       "</table>\n",
       "</div>"
      ],
      "text/plain": [
       "   시도별                 산업별  매출액규모별       2016\n",
       "0  시도별                 산업별  매출액규모별  매출액 (백만원)\n",
       "1   전국             자동차 임대업      총계    5428294\n",
       "2   전국  스포츠 및 레크레이션 용품 임대업      총계     128847\n",
       "3   전국                여행사업      총계    3812948\n",
       "4   전국         전시 및 행사 대행업      총계    2231055"
      ]
     },
     "execution_count": 96,
     "metadata": {},
     "output_type": "execute_result"
    }
   ],
   "source": [
    "gt.head()"
   ]
  },
  {
   "cell_type": "code",
   "execution_count": 97,
   "metadata": {},
   "outputs": [],
   "source": [
    "gt.drop(\"매출액규모별\", axis = 1, inplace = True)\n",
    "gt = gt.loc[1:]\n",
    "gt = gt[gt[\"시도별\"] != \"전국\"]"
   ]
  },
  {
   "cell_type": "code",
   "execution_count": 98,
   "metadata": {},
   "outputs": [
    {
     "data": {
      "text/html": [
       "<div>\n",
       "<style scoped>\n",
       "    .dataframe tbody tr th:only-of-type {\n",
       "        vertical-align: middle;\n",
       "    }\n",
       "\n",
       "    .dataframe tbody tr th {\n",
       "        vertical-align: top;\n",
       "    }\n",
       "\n",
       "    .dataframe thead th {\n",
       "        text-align: right;\n",
       "    }\n",
       "</style>\n",
       "<table border=\"1\" class=\"dataframe\">\n",
       "  <thead>\n",
       "    <tr style=\"text-align: right;\">\n",
       "      <th></th>\n",
       "      <th>시도별</th>\n",
       "      <th>산업별</th>\n",
       "      <th>2016</th>\n",
       "    </tr>\n",
       "  </thead>\n",
       "  <tbody>\n",
       "    <tr>\n",
       "      <th>11</th>\n",
       "      <td>서울특별시</td>\n",
       "      <td>자동차 임대업</td>\n",
       "      <td>2871971</td>\n",
       "    </tr>\n",
       "    <tr>\n",
       "      <th>12</th>\n",
       "      <td>서울특별시</td>\n",
       "      <td>스포츠 및 레크레이션 용품 임대업</td>\n",
       "      <td>16334</td>\n",
       "    </tr>\n",
       "    <tr>\n",
       "      <th>13</th>\n",
       "      <td>서울특별시</td>\n",
       "      <td>여행사업</td>\n",
       "      <td>2522901</td>\n",
       "    </tr>\n",
       "    <tr>\n",
       "      <th>14</th>\n",
       "      <td>서울특별시</td>\n",
       "      <td>전시 및 행사 대행업</td>\n",
       "      <td>1436160</td>\n",
       "    </tr>\n",
       "    <tr>\n",
       "      <th>15</th>\n",
       "      <td>서울특별시</td>\n",
       "      <td>골프장 운영업</td>\n",
       "      <td>11388</td>\n",
       "    </tr>\n",
       "  </tbody>\n",
       "</table>\n",
       "</div>"
      ],
      "text/plain": [
       "      시도별                 산업별     2016\n",
       "11  서울특별시             자동차 임대업  2871971\n",
       "12  서울특별시  스포츠 및 레크레이션 용품 임대업    16334\n",
       "13  서울특별시                여행사업  2522901\n",
       "14  서울특별시         전시 및 행사 대행업  1436160\n",
       "15  서울특별시             골프장 운영업    11388"
      ]
     },
     "execution_count": 98,
     "metadata": {},
     "output_type": "execute_result"
    }
   ],
   "source": [
    "gt.head()"
   ]
  },
  {
   "cell_type": "code",
   "execution_count": 99,
   "metadata": {},
   "outputs": [
    {
     "data": {
      "text/html": [
       "<div>\n",
       "<style scoped>\n",
       "    .dataframe tbody tr th:only-of-type {\n",
       "        vertical-align: middle;\n",
       "    }\n",
       "\n",
       "    .dataframe tbody tr th {\n",
       "        vertical-align: top;\n",
       "    }\n",
       "\n",
       "    .dataframe thead th {\n",
       "        text-align: right;\n",
       "    }\n",
       "</style>\n",
       "<table border=\"1\" class=\"dataframe\">\n",
       "  <thead>\n",
       "    <tr style=\"text-align: right;\">\n",
       "      <th></th>\n",
       "      <th>시도별</th>\n",
       "      <th>산업별</th>\n",
       "      <th>2016</th>\n",
       "    </tr>\n",
       "  </thead>\n",
       "  <tbody>\n",
       "    <tr>\n",
       "      <th>0</th>\n",
       "      <td>서울특별시</td>\n",
       "      <td>자동차 임대업</td>\n",
       "      <td>2871971</td>\n",
       "    </tr>\n",
       "    <tr>\n",
       "      <th>1</th>\n",
       "      <td>서울특별시</td>\n",
       "      <td>스포츠 및 레크레이션 용품 임대업</td>\n",
       "      <td>16334</td>\n",
       "    </tr>\n",
       "    <tr>\n",
       "      <th>2</th>\n",
       "      <td>서울특별시</td>\n",
       "      <td>여행사업</td>\n",
       "      <td>2522901</td>\n",
       "    </tr>\n",
       "    <tr>\n",
       "      <th>3</th>\n",
       "      <td>서울특별시</td>\n",
       "      <td>전시 및 행사 대행업</td>\n",
       "      <td>1436160</td>\n",
       "    </tr>\n",
       "    <tr>\n",
       "      <th>4</th>\n",
       "      <td>서울특별시</td>\n",
       "      <td>골프장 운영업</td>\n",
       "      <td>11388</td>\n",
       "    </tr>\n",
       "  </tbody>\n",
       "</table>\n",
       "</div>"
      ],
      "text/plain": [
       "     시도별                 산업별     2016\n",
       "0  서울특별시             자동차 임대업  2871971\n",
       "1  서울특별시  스포츠 및 레크레이션 용품 임대업    16334\n",
       "2  서울특별시                여행사업  2522901\n",
       "3  서울특별시         전시 및 행사 대행업  1436160\n",
       "4  서울특별시             골프장 운영업    11388"
      ]
     },
     "execution_count": 99,
     "metadata": {},
     "output_type": "execute_result"
    }
   ],
   "source": [
    "gt.reset_index(drop = True, inplace = True)\n",
    "gt.head()"
   ]
  },
  {
   "cell_type": "code",
   "execution_count": 100,
   "metadata": {},
   "outputs": [
    {
     "data": {
      "text/plain": [
       "array(['서울특별시', '부산광역시', '대구광역시', '인천광역시', '광주광역시', '대전광역시', '울산광역시',\n",
       "       '세종특별자치시', '경기도', '강원도', '충청북도', '충청남도', '전라북도', '전라남도', '경상북도',\n",
       "       '경상남도', '제주특별자치도'], dtype=object)"
      ]
     },
     "execution_count": 100,
     "metadata": {},
     "output_type": "execute_result"
    }
   ],
   "source": [
    "gt[\"시도별\"].unique()"
   ]
  },
  {
   "cell_type": "code",
   "execution_count": 101,
   "metadata": {},
   "outputs": [],
   "source": [
    "def sido_tidy(sm_food):    \n",
    "    sm_food[\"시도별\"][sm_food[\"시도별\"].str.len()>4] = sm_food[\"시도별\"][sm_food[\"시도별\"].str.len()>4].str[:2]\n",
    "    sm_food[\"시도별\"] = sm_food[\"시도별\"].str.replace(\"도\",\"\")\n",
    "    sm_food[\"시도별\"] = sm_food[\"시도별\"].str.replace(\"청\",\"\")\n",
    "    sm_food[\"시도별\"] = sm_food[\"시도별\"].str.replace(\"상\",\"\")\n",
    "    sm_food[\"시도별\"] = sm_food[\"시도별\"].str.replace(\"라\",\"\")"
   ]
  },
  {
   "cell_type": "code",
   "execution_count": 102,
   "metadata": {},
   "outputs": [],
   "source": [
    "sido_tidy(sm_food)\n",
    "sido_tidy(gt)"
   ]
  },
  {
   "cell_type": "code",
   "execution_count": 103,
   "metadata": {},
   "outputs": [
    {
     "data": {
      "text/plain": [
       "array(['서울', '부산', '대구', '인천', '광주', '대전', '울산', '세종', '경기', '강원', '충북',\n",
       "       '충남', '전북', '전남', '경북', '경남', '제주'], dtype=object)"
      ]
     },
     "execution_count": 103,
     "metadata": {},
     "output_type": "execute_result"
    }
   ],
   "source": [
    "sm_food[\"시도별\"].unique()"
   ]
  },
  {
   "cell_type": "code",
   "execution_count": 104,
   "metadata": {},
   "outputs": [
    {
     "data": {
      "text/plain": [
       "array(['서울', '부산', '대구', '인천', '광주', '대전', '울산', '세종', '경기', '강원', '충북',\n",
       "       '충남', '전북', '전남', '경북', '경남', '제주'], dtype=object)"
      ]
     },
     "execution_count": 104,
     "metadata": {},
     "output_type": "execute_result"
    }
   ],
   "source": [
    "gt[\"시도별\"].unique()"
   ]
  },
  {
   "cell_type": "code",
   "execution_count": 105,
   "metadata": {},
   "outputs": [
    {
     "data": {
      "text/html": [
       "<div>\n",
       "<style scoped>\n",
       "    .dataframe tbody tr th:only-of-type {\n",
       "        vertical-align: middle;\n",
       "    }\n",
       "\n",
       "    .dataframe tbody tr th {\n",
       "        vertical-align: top;\n",
       "    }\n",
       "\n",
       "    .dataframe thead th {\n",
       "        text-align: right;\n",
       "    }\n",
       "</style>\n",
       "<table border=\"1\" class=\"dataframe\">\n",
       "  <thead>\n",
       "    <tr style=\"text-align: right;\">\n",
       "      <th></th>\n",
       "      <th>시도별</th>\n",
       "      <th>산업별</th>\n",
       "      <th>2016</th>\n",
       "    </tr>\n",
       "  </thead>\n",
       "  <tbody>\n",
       "    <tr>\n",
       "      <th>0</th>\n",
       "      <td>서울</td>\n",
       "      <td>기타 대형 종합 소매업</td>\n",
       "      <td>11790872</td>\n",
       "    </tr>\n",
       "    <tr>\n",
       "      <th>1</th>\n",
       "      <td>서울</td>\n",
       "      <td>슈퍼마켓</td>\n",
       "      <td>6097608</td>\n",
       "    </tr>\n",
       "    <tr>\n",
       "      <th>2</th>\n",
       "      <td>서울</td>\n",
       "      <td>체인화 편의점</td>\n",
       "      <td>5628865</td>\n",
       "    </tr>\n",
       "    <tr>\n",
       "      <th>3</th>\n",
       "      <td>서울</td>\n",
       "      <td>기타 음·식료품 위주 종합 소매업</td>\n",
       "      <td>2212721</td>\n",
       "    </tr>\n",
       "    <tr>\n",
       "      <th>4</th>\n",
       "      <td>서울</td>\n",
       "      <td>그외 기타 종합 소매업</td>\n",
       "      <td>970747</td>\n",
       "    </tr>\n",
       "  </tbody>\n",
       "</table>\n",
       "</div>"
      ],
      "text/plain": [
       "  시도별                 산업별      2016\n",
       "0  서울        기타 대형 종합 소매업  11790872\n",
       "1  서울                슈퍼마켓   6097608\n",
       "2  서울             체인화 편의점   5628865\n",
       "3  서울  기타 음·식료품 위주 종합 소매업   2212721\n",
       "4  서울        그외 기타 종합 소매업    970747"
      ]
     },
     "execution_count": 105,
     "metadata": {},
     "output_type": "execute_result"
    }
   ],
   "source": [
    "sm_food.head()"
   ]
  },
  {
   "cell_type": "code",
   "execution_count": 106,
   "metadata": {},
   "outputs": [
    {
     "data": {
      "text/html": [
       "<div>\n",
       "<style scoped>\n",
       "    .dataframe tbody tr th:only-of-type {\n",
       "        vertical-align: middle;\n",
       "    }\n",
       "\n",
       "    .dataframe tbody tr th {\n",
       "        vertical-align: top;\n",
       "    }\n",
       "\n",
       "    .dataframe thead th {\n",
       "        text-align: right;\n",
       "    }\n",
       "</style>\n",
       "<table border=\"1\" class=\"dataframe\">\n",
       "  <thead>\n",
       "    <tr style=\"text-align: right;\">\n",
       "      <th></th>\n",
       "      <th>시도별</th>\n",
       "      <th>산업별</th>\n",
       "      <th>2016</th>\n",
       "    </tr>\n",
       "  </thead>\n",
       "  <tbody>\n",
       "    <tr>\n",
       "      <th>0</th>\n",
       "      <td>서울</td>\n",
       "      <td>자동차 임대업</td>\n",
       "      <td>2871971</td>\n",
       "    </tr>\n",
       "    <tr>\n",
       "      <th>1</th>\n",
       "      <td>서울</td>\n",
       "      <td>스포츠 및 레크레이션 용품 임대업</td>\n",
       "      <td>16334</td>\n",
       "    </tr>\n",
       "    <tr>\n",
       "      <th>2</th>\n",
       "      <td>서울</td>\n",
       "      <td>여행사업</td>\n",
       "      <td>2522901</td>\n",
       "    </tr>\n",
       "    <tr>\n",
       "      <th>3</th>\n",
       "      <td>서울</td>\n",
       "      <td>전시 및 행사 대행업</td>\n",
       "      <td>1436160</td>\n",
       "    </tr>\n",
       "    <tr>\n",
       "      <th>4</th>\n",
       "      <td>서울</td>\n",
       "      <td>골프장 운영업</td>\n",
       "      <td>11388</td>\n",
       "    </tr>\n",
       "  </tbody>\n",
       "</table>\n",
       "</div>"
      ],
      "text/plain": [
       "  시도별                 산업별     2016\n",
       "0  서울             자동차 임대업  2871971\n",
       "1  서울  스포츠 및 레크레이션 용품 임대업    16334\n",
       "2  서울                여행사업  2522901\n",
       "3  서울         전시 및 행사 대행업  1436160\n",
       "4  서울             골프장 운영업    11388"
      ]
     },
     "execution_count": 106,
     "metadata": {},
     "output_type": "execute_result"
    }
   ],
   "source": [
    "gt.head()"
   ]
  },
  {
   "cell_type": "code",
   "execution_count": 107,
   "metadata": {},
   "outputs": [],
   "source": [
    "sm_food.rename(columns = {\"시도별\" : \"CARD_SIDO_NM\", \"산업별\" : \"STD_CLSS_NM\", \"2016\" : \"Maechul\"}, inplace = True)\n",
    "gt.rename(columns = {\"시도별\" : \"CARD_SIDO_NM\", \"산업별\" : \"STD_CLSS_NM\", \"2016\" : \"Maechul\"}, inplace = True)\n",
    "us.rename(columns = {\"산업별\" : \"STD_CLSS_NM\", \"매출액\" : \"Maechul\"}, inplace = True)"
   ]
  },
  {
   "cell_type": "code",
   "execution_count": 108,
   "metadata": {},
   "outputs": [
    {
     "data": {
      "text/html": [
       "<div>\n",
       "<style scoped>\n",
       "    .dataframe tbody tr th:only-of-type {\n",
       "        vertical-align: middle;\n",
       "    }\n",
       "\n",
       "    .dataframe tbody tr th {\n",
       "        vertical-align: top;\n",
       "    }\n",
       "\n",
       "    .dataframe thead th {\n",
       "        text-align: right;\n",
       "    }\n",
       "</style>\n",
       "<table border=\"1\" class=\"dataframe\">\n",
       "  <thead>\n",
       "    <tr style=\"text-align: right;\">\n",
       "      <th></th>\n",
       "      <th>CARD_SIDO_NM</th>\n",
       "      <th>STD_CLSS_NM</th>\n",
       "      <th>Maechul</th>\n",
       "    </tr>\n",
       "  </thead>\n",
       "  <tbody>\n",
       "    <tr>\n",
       "      <th>0</th>\n",
       "      <td>서울</td>\n",
       "      <td>기타 대형 종합 소매업</td>\n",
       "      <td>11790872</td>\n",
       "    </tr>\n",
       "    <tr>\n",
       "      <th>1</th>\n",
       "      <td>서울</td>\n",
       "      <td>슈퍼마켓</td>\n",
       "      <td>6097608</td>\n",
       "    </tr>\n",
       "    <tr>\n",
       "      <th>2</th>\n",
       "      <td>서울</td>\n",
       "      <td>체인화 편의점</td>\n",
       "      <td>5628865</td>\n",
       "    </tr>\n",
       "    <tr>\n",
       "      <th>3</th>\n",
       "      <td>서울</td>\n",
       "      <td>기타 음·식료품 위주 종합 소매업</td>\n",
       "      <td>2212721</td>\n",
       "    </tr>\n",
       "    <tr>\n",
       "      <th>4</th>\n",
       "      <td>서울</td>\n",
       "      <td>그외 기타 종합 소매업</td>\n",
       "      <td>970747</td>\n",
       "    </tr>\n",
       "    <tr>\n",
       "      <th>...</th>\n",
       "      <td>...</td>\n",
       "      <td>...</td>\n",
       "      <td>...</td>\n",
       "    </tr>\n",
       "    <tr>\n",
       "      <th>437</th>\n",
       "      <td>제주</td>\n",
       "      <td>기타 외국식 음식점업</td>\n",
       "      <td>3447</td>\n",
       "    </tr>\n",
       "    <tr>\n",
       "      <th>438</th>\n",
       "      <td>제주</td>\n",
       "      <td>피자  햄버거  샌드위치 및 유사 음식점업</td>\n",
       "      <td>61595</td>\n",
       "    </tr>\n",
       "    <tr>\n",
       "      <th>439</th>\n",
       "      <td>제주</td>\n",
       "      <td>일반유흥 주점업</td>\n",
       "      <td>175176</td>\n",
       "    </tr>\n",
       "    <tr>\n",
       "      <th>440</th>\n",
       "      <td>제주</td>\n",
       "      <td>기타 주점업</td>\n",
       "      <td>108519</td>\n",
       "    </tr>\n",
       "    <tr>\n",
       "      <th>441</th>\n",
       "      <td>제주</td>\n",
       "      <td>비알콜 음료점업</td>\n",
       "      <td>124909</td>\n",
       "    </tr>\n",
       "  </tbody>\n",
       "</table>\n",
       "<p>442 rows × 3 columns</p>\n",
       "</div>"
      ],
      "text/plain": [
       "    CARD_SIDO_NM              STD_CLSS_NM   Maechul\n",
       "0             서울             기타 대형 종합 소매업  11790872\n",
       "1             서울                     슈퍼마켓   6097608\n",
       "2             서울                  체인화 편의점   5628865\n",
       "3             서울       기타 음·식료품 위주 종합 소매업   2212721\n",
       "4             서울             그외 기타 종합 소매업    970747\n",
       "..           ...                      ...       ...\n",
       "437           제주              기타 외국식 음식점업      3447\n",
       "438           제주  피자  햄버거  샌드위치 및 유사 음식점업     61595\n",
       "439           제주                 일반유흥 주점업    175176\n",
       "440           제주                   기타 주점업    108519\n",
       "441           제주                 비알콜 음료점업    124909\n",
       "\n",
       "[442 rows x 3 columns]"
      ]
     },
     "execution_count": 108,
     "metadata": {},
     "output_type": "execute_result"
    }
   ],
   "source": [
    "sm_food"
   ]
  },
  {
   "cell_type": "code",
   "execution_count": 109,
   "metadata": {},
   "outputs": [
    {
     "data": {
      "text/html": [
       "<div>\n",
       "<style scoped>\n",
       "    .dataframe tbody tr th:only-of-type {\n",
       "        vertical-align: middle;\n",
       "    }\n",
       "\n",
       "    .dataframe tbody tr th {\n",
       "        vertical-align: top;\n",
       "    }\n",
       "\n",
       "    .dataframe thead th {\n",
       "        text-align: right;\n",
       "    }\n",
       "</style>\n",
       "<table border=\"1\" class=\"dataframe\">\n",
       "  <thead>\n",
       "    <tr style=\"text-align: right;\">\n",
       "      <th></th>\n",
       "      <th>CARD_SIDO_NM</th>\n",
       "      <th>STD_CLSS_NM</th>\n",
       "      <th>Maechul</th>\n",
       "    </tr>\n",
       "  </thead>\n",
       "  <tbody>\n",
       "    <tr>\n",
       "      <th>0</th>\n",
       "      <td>서울</td>\n",
       "      <td>자동차 임대업</td>\n",
       "      <td>2871971</td>\n",
       "    </tr>\n",
       "    <tr>\n",
       "      <th>1</th>\n",
       "      <td>서울</td>\n",
       "      <td>스포츠 및 레크레이션 용품 임대업</td>\n",
       "      <td>16334</td>\n",
       "    </tr>\n",
       "    <tr>\n",
       "      <th>2</th>\n",
       "      <td>서울</td>\n",
       "      <td>여행사업</td>\n",
       "      <td>2522901</td>\n",
       "    </tr>\n",
       "    <tr>\n",
       "      <th>3</th>\n",
       "      <td>서울</td>\n",
       "      <td>전시 및 행사 대행업</td>\n",
       "      <td>1436160</td>\n",
       "    </tr>\n",
       "    <tr>\n",
       "      <th>4</th>\n",
       "      <td>서울</td>\n",
       "      <td>골프장 운영업</td>\n",
       "      <td>11388</td>\n",
       "    </tr>\n",
       "    <tr>\n",
       "      <th>...</th>\n",
       "      <td>...</td>\n",
       "      <td>...</td>\n",
       "      <td>...</td>\n",
       "    </tr>\n",
       "    <tr>\n",
       "      <th>165</th>\n",
       "      <td>제주</td>\n",
       "      <td>그외 기타 스포츠시설 운영업</td>\n",
       "      <td>10140</td>\n",
       "    </tr>\n",
       "    <tr>\n",
       "      <th>166</th>\n",
       "      <td>제주</td>\n",
       "      <td>기타 수상오락 서비스업</td>\n",
       "      <td>1378</td>\n",
       "    </tr>\n",
       "    <tr>\n",
       "      <th>167</th>\n",
       "      <td>제주</td>\n",
       "      <td>그외 기타 분류안된 오락관련 서비스업</td>\n",
       "      <td>9304</td>\n",
       "    </tr>\n",
       "    <tr>\n",
       "      <th>168</th>\n",
       "      <td>제주</td>\n",
       "      <td>욕탕업</td>\n",
       "      <td>23464</td>\n",
       "    </tr>\n",
       "    <tr>\n",
       "      <th>169</th>\n",
       "      <td>제주</td>\n",
       "      <td>마사지업</td>\n",
       "      <td>7894</td>\n",
       "    </tr>\n",
       "  </tbody>\n",
       "</table>\n",
       "<p>170 rows × 3 columns</p>\n",
       "</div>"
      ],
      "text/plain": [
       "    CARD_SIDO_NM           STD_CLSS_NM  Maechul\n",
       "0             서울               자동차 임대업  2871971\n",
       "1             서울    스포츠 및 레크레이션 용품 임대업    16334\n",
       "2             서울                  여행사업  2522901\n",
       "3             서울           전시 및 행사 대행업  1436160\n",
       "4             서울               골프장 운영업    11388\n",
       "..           ...                   ...      ...\n",
       "165           제주       그외 기타 스포츠시설 운영업    10140\n",
       "166           제주          기타 수상오락 서비스업     1378\n",
       "167           제주  그외 기타 분류안된 오락관련 서비스업     9304\n",
       "168           제주                   욕탕업    23464\n",
       "169           제주                  마사지업     7894\n",
       "\n",
       "[170 rows x 3 columns]"
      ]
     },
     "execution_count": 109,
     "metadata": {},
     "output_type": "execute_result"
    }
   ],
   "source": [
    "gt"
   ]
  },
  {
   "cell_type": "code",
   "execution_count": 110,
   "metadata": {},
   "outputs": [
    {
     "data": {
      "text/html": [
       "<div>\n",
       "<style scoped>\n",
       "    .dataframe tbody tr th:only-of-type {\n",
       "        vertical-align: middle;\n",
       "    }\n",
       "\n",
       "    .dataframe tbody tr th {\n",
       "        vertical-align: top;\n",
       "    }\n",
       "\n",
       "    .dataframe thead th {\n",
       "        text-align: right;\n",
       "    }\n",
       "</style>\n",
       "<table border=\"1\" class=\"dataframe\">\n",
       "  <thead>\n",
       "    <tr style=\"text-align: right;\">\n",
       "      <th></th>\n",
       "      <th>STD_CLSS_NM</th>\n",
       "      <th>Maechul</th>\n",
       "    </tr>\n",
       "  </thead>\n",
       "  <tbody>\n",
       "    <tr>\n",
       "      <th>0</th>\n",
       "      <td>택시 운송업</td>\n",
       "      <td>8568071</td>\n",
       "    </tr>\n",
       "    <tr>\n",
       "      <th>1</th>\n",
       "      <td>내항 여객 운송업</td>\n",
       "      <td>311636</td>\n",
       "    </tr>\n",
       "    <tr>\n",
       "      <th>2</th>\n",
       "      <td>정기 항공 운송업</td>\n",
       "      <td>20271733</td>\n",
       "    </tr>\n",
       "    <tr>\n",
       "      <th>3</th>\n",
       "      <td>버스 운송업</td>\n",
       "      <td>8491386</td>\n",
       "    </tr>\n",
       "  </tbody>\n",
       "</table>\n",
       "</div>"
      ],
      "text/plain": [
       "  STD_CLSS_NM   Maechul\n",
       "0      택시 운송업   8568071\n",
       "1   내항 여객 운송업    311636\n",
       "2   정기 항공 운송업  20271733\n",
       "3      버스 운송업   8491386"
      ]
     },
     "execution_count": 110,
     "metadata": {},
     "output_type": "execute_result"
    }
   ],
   "source": [
    "us"
   ]
  },
  {
   "cell_type": "code",
   "execution_count": 112,
   "metadata": {},
   "outputs": [
    {
     "data": {
      "text/plain": [
       "array(['건강보조식품 소매업', '골프장 운영업', '과실 및 채소 소매업', '관광 민예품 및 선물용품 소매업',\n",
       "       '그외 기타 스포츠시설 운영업', '그외 기타 종합 소매업', '기타 대형 종합 소매업', '기타 외국식 음식점업',\n",
       "       '기타 주점업', '기타음식료품위주종합소매업', '마사지업', '비알콜 음료점업', '빵 및 과자류 소매업',\n",
       "       '서양식 음식점업', '수산물 소매업', '슈퍼마켓', '스포츠 및 레크레이션 용품 임대업', '여관업', '욕탕업',\n",
       "       '육류 소매업', '일반유흥 주점업', '일식 음식점업', '전시 및 행사 대행업', '중식 음식점업',\n",
       "       '차량용 가스 충전업', '차량용 주유소 운영업', '체인화 편의점', '피자 햄버거 샌드위치 및 유사 음식점업',\n",
       "       '한식 음식점업', '호텔업', '화장품 및 방향제 소매업', '휴양콘도 운영업', '여행사업', '자동차 임대업',\n",
       "       '면세점', '버스 운송업', '택시 운송업', '기타 수상오락 서비스업', '내항 여객 운송업',\n",
       "       '그외 기타 분류안된 오락관련 서비스업', '정기 항공 운송업'], dtype=object)"
      ]
     },
     "execution_count": 112,
     "metadata": {},
     "output_type": "execute_result"
    }
   ],
   "source": [
    "clss_lst"
   ]
  },
  {
   "cell_type": "code",
   "execution_count": 113,
   "metadata": {},
   "outputs": [],
   "source": [
    "sm_lst = sm_food[\"STD_CLSS_NM\"].unique()\n",
    "gt_lst = gt[\"STD_CLSS_NM\"].unique()\n",
    "us_lst = us[\"STD_CLSS_NM\"].unique()"
   ]
  },
  {
   "cell_type": "code",
   "execution_count": 114,
   "metadata": {},
   "outputs": [],
   "source": [
    "def detect_lst(lst):\n",
    "    for i in lst:\n",
    "        if i not in clss_lst:\n",
    "            print(i)"
   ]
  },
  {
   "cell_type": "code",
   "execution_count": 115,
   "metadata": {},
   "outputs": [
    {
     "name": "stdout",
     "output_type": "stream",
     "text": [
      "기타 음·식료품 위주 종합 소매업\n",
      "피자  햄버거  샌드위치 및 유사 음식점업\n"
     ]
    }
   ],
   "source": [
    "detect_lst(sm_lst)"
   ]
  },
  {
   "cell_type": "code",
   "execution_count": 116,
   "metadata": {},
   "outputs": [],
   "source": [
    "detect_lst(gt_lst)"
   ]
  },
  {
   "cell_type": "code",
   "execution_count": 117,
   "metadata": {},
   "outputs": [],
   "source": [
    "detect_lst(us_lst)"
   ]
  },
  {
   "cell_type": "code",
   "execution_count": 118,
   "metadata": {},
   "outputs": [],
   "source": [
    "sm_food[\"STD_CLSS_NM\"][sm_food[\"STD_CLSS_NM\"]==\"기타 음·식료품 위주 종합 소매업\"] = \"기타음식료품위주종합소매업\"\n",
    "sm_food[\"STD_CLSS_NM\"][sm_food[\"STD_CLSS_NM\"]==\"피자  햄버거  샌드위치 및 유사 음식점업\"] = \"피자 햄버거 샌드위치 및 유사 음식점업\""
   ]
  },
  {
   "cell_type": "code",
   "execution_count": 119,
   "metadata": {},
   "outputs": [],
   "source": [
    "sm_lst = sm_food[\"STD_CLSS_NM\"].unique()\n",
    "gt_lst = gt[\"STD_CLSS_NM\"].unique()\n",
    "us_lst = us[\"STD_CLSS_NM\"].unique()"
   ]
  },
  {
   "cell_type": "code",
   "execution_count": 120,
   "metadata": {},
   "outputs": [],
   "source": [
    "detect_lst(sm_lst)\n",
    "detect_lst(gt_lst)\n",
    "detect_lst(us_lst)"
   ]
  },
  {
   "cell_type": "code",
   "execution_count": 121,
   "metadata": {},
   "outputs": [],
   "source": [
    "sm_food.to_csv(\"sm_food_cleaned.csv\")\n",
    "gt.to_csv(\"gt_cleaned.csv\")\n",
    "us.to_csv(\"us_cleaned.csv\")"
   ]
  },
  {
   "cell_type": "code",
   "execution_count": null,
   "metadata": {},
   "outputs": [],
   "source": []
  }
 ],
 "metadata": {
  "kernelspec": {
   "display_name": "Python 3",
   "language": "python",
   "name": "python3"
  },
  "language_info": {
   "codemirror_mode": {
    "name": "ipython",
    "version": 3
   },
   "file_extension": ".py",
   "mimetype": "text/x-python",
   "name": "python",
   "nbconvert_exporter": "python",
   "pygments_lexer": "ipython3",
   "version": "3.7.6"
  }
 },
 "nbformat": 4,
 "nbformat_minor": 4
}
